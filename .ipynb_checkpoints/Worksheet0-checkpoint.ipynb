{
 "cells": [
  {
   "cell_type": "code",
   "execution_count": 1,
   "id": "1d912bda-5493-4f42-8c4c-8b4763597641",
   "metadata": {},
   "outputs": [
    {
     "name": "stdout",
     "output_type": "stream",
     "text": [
      "Original List: [5, 6, 7]\n",
      "Modified List: [5, 6, 7, 4]\n",
      "Original Tuple: (1, 2, 3)\n"
     ]
    }
   ],
   "source": [
    "# Mutable Data Type Example (List)\n",
    "original_list = [5, 6, 7]\n",
    "print(\"Original List:\", original_list)\n",
    "# Modifying the list (changing contents)\n",
    "original_list.append(4)\n",
    "print(\"Modified List:\", original_list)\n",
    "# Immutable Data Type Example (Tuple)\n",
    "original_tuple = (1, 2, 3)\n",
    "print(\"Original Tuple:\", original_tuple)\n",
    "# Trying to modify the tuple (will raise an error)\n",
    "# original_tuple.append(4) # Uncommenting this line will raise an AttributeError since tuples are immutable"
   ]
  },
  {
   "cell_type": "code",
   "execution_count": 2,
   "id": "d205587f-acef-42e1-864f-85b300b9fbff",
   "metadata": {},
   "outputs": [
    {
     "name": "stdout",
     "output_type": "stream",
     "text": [
      "data type of variable age =  <class 'int'>\n",
      "data type of variable pi =  <class 'float'>\n",
      "data type of variable temperature =  <class 'float'>\n"
     ]
    }
   ],
   "source": [
    "age = 20 #int\n",
    "pi = 3.14 #float\n",
    "temperature = 10.8 #float\n",
    "print(\"data type of variable age = \", type(age))\n",
    "print(\"data type of variable pi = \", type(pi))\n",
    "print(\"data type of variable temperature = \", type(temperature))"
   ]
  },
  {
   "cell_type": "code",
   "execution_count": 3,
   "id": "3025cc9c-d501-4a94-a5dc-93b8fe9711da",
   "metadata": {},
   "outputs": [
    {
     "name": "stdout",
     "output_type": "stream",
     "text": [
      "Data type of the variable name =  <class 'str'>\n",
      "Data type of the variable greeting =  <class 'str'>\n",
      "Data type of the variable address =  <class 'str'>\n",
      "The first letter of the name is: D\n",
      "The last letter of the name is: a\n",
      "The second letter to the fourth of the name is: eey\n",
      "The first two letters of the name are: De\n",
      "Substring starting from the third letter is: eya\n"
     ]
    }
   ],
   "source": [
    "name = \"Deeya\"\n",
    "greeting = \"Hello\"\n",
    "address = \"Baneshwor\"\n",
    "print(\"Data type of the variable name = \",type(name))\n",
    "print(\"Data type of the variable greeting = \",type(greeting))\n",
    "print(\"Data type of the variable address = \",type(address))\n",
    "# slice only one element\n",
    "print(\"The first letter of the name is:\", name[0])\n",
    "print(\"The last letter of the name is:\", name[-1])\n",
    "# slice a range of elements\n",
    "print(\"The second letter to the fourth of the name is:\", name[1:4])\n",
    "print(\"The first two letters of the name are:\", name[:2])\n",
    "print(\"Substring starting from the third letter is:\", name[2:])"
   ]
  },
  {
   "cell_type": "code",
   "execution_count": 4,
   "id": "5e747a48-8cb1-44a3-8778-cb9e48deaa28",
   "metadata": {},
   "outputs": [
    {
     "data": {
      "text/plain": [
       "[False, 'Hi', True]"
      ]
     },
     "execution_count": 4,
     "metadata": {},
     "output_type": "execute_result"
    }
   ],
   "source": [
    "list1 = [3, 5, 7, 9]\n",
    "mixed_list = [77, \"Hi\", True]\n",
    "mixed_list[0] = False\n",
    "mixed_list"
   ]
  },
  {
   "cell_type": "code",
   "execution_count": 5,
   "id": "069037e3-4ac6-4853-b727-924507137dfe",
   "metadata": {},
   "outputs": [
    {
     "name": "stdout",
     "output_type": "stream",
     "text": [
      "First element: yellow\n",
      "Last two elements: ('blue', 'pink')\n",
      "Middle two elements: ('orange', 'blue')\n"
     ]
    },
    {
     "data": {
      "text/plain": [
       "('yellow', 'orange', 'blue', 'pink')"
      ]
     },
     "execution_count": 5,
     "metadata": {},
     "output_type": "execute_result"
    }
   ],
   "source": [
    "colors = (\"yellow\", \"orange\", \"blue\", \"pink\")\n",
    "print(\"First element:\", colors[0])\n",
    "print(\"Last two elements:\", colors[2:])\n",
    "print(\"Middle two elements:\", colors[1:3])\n",
    "# colors[0] = \"black\" (will generate an error since tuples are immutable)\n",
    "colors"
   ]
  },
  {
   "cell_type": "code",
   "execution_count": 10,
   "id": "3713108c-e168-4a08-a1db-ebedfa2882e2",
   "metadata": {},
   "outputs": [
    {
     "name": "stdout",
     "output_type": "stream",
     "text": [
      "Hello my name is Deeya. I am 21 years old and I live at Kathmandu.\n",
      "All keys: ['name', 'age', 'city']\n",
      "All values: ['Deeya', 21, 'Kathmandu']\n"
     ]
    }
   ],
   "source": [
    "person = {\"name\": \"Deeya\", \"age\": 21, \"city\": \"Kathmandu\"}\n",
    "print(f\"Hello my name is {person['name']}. I am {person['age']} years old and I live at {person['city']}.\")\n",
    "print(\"All keys:\", list(person.keys()))\n",
    "print(\"All values:\", list(person.values()))"
   ]
  },
  {
   "cell_type": "code",
   "execution_count": 11,
   "id": "6b69908c-fb98-47a4-b108-c5243ec7091b",
   "metadata": {},
   "outputs": [
    {
     "name": "stdout",
     "output_type": "stream",
     "text": [
      "{3, 4, 7, 8, 9}\n"
     ]
    }
   ],
   "source": [
    "unique_numbers = {3,4,7,7,7,7,8,9}\n",
    "print(unique_numbers)"
   ]
  },
  {
   "cell_type": "code",
   "execution_count": 12,
   "id": "4e304ad9-a79d-4427-8ece-20b9390791f3",
   "metadata": {},
   "outputs": [
    {
     "name": "stdout",
     "output_type": "stream",
     "text": [
      "Data type of the variable is_student =  <class 'bool'>\n",
      "Data type of the variable has_license =  <class 'bool'>\n"
     ]
    }
   ],
   "source": [
    "is_teacher = False\n",
    "has_degree = True\n",
    "print(\"Data type of the variable is_student = \",type(is_teacher))\n",
    "print(\"Data type of the variable has_license = \",type(has_degree))"
   ]
  },
  {
   "cell_type": "code",
   "execution_count": 13,
   "id": "f0c624a9-80bc-4a88-8299-e74103fcbe2b",
   "metadata": {},
   "outputs": [
    {
     "name": "stdout",
     "output_type": "stream",
     "text": [
      "Negative\n"
     ]
    }
   ],
   "source": [
    "num = -9\n",
    "if num > 0:\n",
    "    print(\"Positive\")\n",
    "elif num == 0:\n",
    "    print(\"Zero\")\n",
    "else:\n",
    "    print(\"Negative\")"
   ]
  },
  {
   "cell_type": "code",
   "execution_count": 15,
   "id": "67eaed6d-cb1e-4a92-902b-fd06c7b365c1",
   "metadata": {},
   "outputs": [
    {
     "name": "stdout",
     "output_type": "stream",
     "text": [
      "At least one condition is true\n",
      "x is not equal to 0\n"
     ]
    }
   ],
   "source": [
    "x = 4\n",
    "y = 90\n",
    "if x > 0 and y < 20:\n",
    "    print(\"Both conditions are true\")\n",
    "if x > 0 or y > 20:\n",
    "    print(\"At least one condition is true\")\n",
    "if not x == 0:\n",
    "    print(\"x is not equal to 0\")"
   ]
  },
  {
   "cell_type": "code",
   "execution_count": 18,
   "id": "a79a842b-9f84-405b-af9d-d286a022a249",
   "metadata": {},
   "outputs": [
    {
     "name": "stdout",
     "output_type": "stream",
     "text": [
      "Either x or y is False\n",
      "At least one of x or y is True\n",
      "x is True\n"
     ]
    }
   ],
   "source": [
    "# Define two boolean variables\n",
    "x = True\n",
    "y = False\n",
    "# Using the ’and’ operator\n",
    "if x and y:\n",
    "    print(\"Both x and y are True\")\n",
    "else:\n",
    "    print(\"Either x or y is False\") # This will be printed\n",
    "# Using the ’or’ operator\n",
    "if x or y:\n",
    "    print(\"At least one of x or y is True\") # This will be printed\n",
    "else:\n",
    "    print(\"Both x and y are False\")\n",
    "# Using the ’not’ operator\n",
    "if not x:\n",
    "    print(\"x is False\") # This will not be printed\n",
    "else:\n",
    "    print(\"x is True\") # This will be printed"
   ]
  },
  {
   "cell_type": "code",
   "execution_count": 20,
   "id": "6c5d7e4a-6eae-421a-8001-ec627c115dec",
   "metadata": {},
   "outputs": [
    {
     "name": "stdout",
     "output_type": "stream",
     "text": [
      "mango\n",
      "watermelon\n",
      "pear\n",
      "Count is:  0\n",
      "Count is:  1\n",
      "Count is:  2\n",
      "Count is:  3\n",
      "Count is:  4\n",
      "loop 1\n",
      "mango\n",
      "loop 2\n",
      "watermelon\n",
      "kiwi\n",
      "watermelon\n",
      "loop 2\n",
      "watermelon\n",
      "kiwi\n",
      "kiwi\n",
      "loop 2\n",
      "watermelon\n",
      "kiwi\n"
     ]
    }
   ],
   "source": [
    "fruits = [\"mango\",\"watermelon\",\"pear\"]\n",
    "for fruit in fruits:\n",
    "    print(fruit)\n",
    "\n",
    "count = 0\n",
    "while count < 5:\n",
    "    print (\"Count is: \",count)\n",
    "    count += 1\n",
    "\n",
    "fruits = [\"mango\",\"watermelon\",\"kiwi\"]\n",
    "print(\"loop 1\")\n",
    "for fruit in fruits:\n",
    "    print(fruit)\n",
    "    if fruit == \"cherry\":\n",
    "        break\n",
    "\n",
    "    print(\"loop 2\")\n",
    "    for fruit in fruits:\n",
    "        if fruit == \"mango\":\n",
    "            continue\n",
    "        else:\n",
    "            print(fruit)"
   ]
  },
  {
   "cell_type": "code",
   "execution_count": 22,
   "id": "c104a858-c1be-40f6-96d7-cb8e0327f5ea",
   "metadata": {},
   "outputs": [
    {
     "name": "stdout",
     "output_type": "stream",
     "text": [
      "Choose a conversion type: \n",
      "1. Length\n",
      "2. Weight\n",
      "3. Volume\n"
     ]
    },
    {
     "name": "stdin",
     "output_type": "stream",
     "text": [
      "Enter your choice (1-3):  2\n"
     ]
    },
    {
     "name": "stdout",
     "output_type": "stream",
     "text": [
      "1. Kilograms to Pounds\n",
      "2. Pounds to Kilograms\n"
     ]
    },
    {
     "name": "stdin",
     "output_type": "stream",
     "text": [
      "Enter your choice (1-2):  1\n",
      "Enter your value to convert:  11\n"
     ]
    },
    {
     "name": "stdout",
     "output_type": "stream",
     "text": [
      "11.0kg = 24.244000000000003lbs\n"
     ]
    }
   ],
   "source": [
    "#Task01: Create a Python program that converts between different units of measurement.\n",
    "def m_to_ft(meters):\n",
    "    return meters * 3.280\n",
    "\n",
    "def ft_to_m(feet):\n",
    "    return feet / 3.280\n",
    "\n",
    "def kg_to_lbs(kilogram):\n",
    "    return kilogram * 2.204\n",
    "\n",
    "def lbs_to_kg(pounds):\n",
    "    return pounds / 2.204\n",
    "\n",
    "def l_to_gal(liter):\n",
    "    return liter * 0.2641\n",
    "\n",
    "def gal_to_l(gallon):\n",
    "    return gallon / 0.2641\n",
    "\n",
    "def conversion():\n",
    "    try:\n",
    "        print(\"Choose a conversion type: \")\n",
    "        print(\"1. Length\")\n",
    "        print(\"2. Weight\")\n",
    "        print(\"3. Volume\")\n",
    "        choice = int(input(\"Enter your choice (1-3): \"))\n",
    "\n",
    "        if choice == 1:\n",
    "            print(\"1. Meters to Feet\")\n",
    "            print(\"2. Feet to Meters\")\n",
    "            choice2 = int(input(\"Enter your choice (1-2): \"))\n",
    "            value = float(input(\"Enter your value to convert: \"))\n",
    "            if choice2 == 1:\n",
    "                result = m_to_ft(value)\n",
    "                print(f\"{value}m = {result}ft\")\n",
    "            elif choice2 == 2:\n",
    "                result = ft_to_m(value)\n",
    "                print(f\"{value}ft = {value}m\")\n",
    "            else:\n",
    "                print(\"Invalid choice. Please try again!\")\n",
    "\n",
    "        elif choice == 2:\n",
    "            print(\"1. Kilograms to Pounds\")\n",
    "            print(\"2. Pounds to Kilograms\")\n",
    "            choice2 = int(input(\"Enter your choice (1-2): \"))\n",
    "            value = float(input(\"Enter your value to convert: \"))\n",
    "            if (choice2 == 1):\n",
    "                result = kg_to_lbs(value)\n",
    "                print(f\"{value}kg = {result}lbs\")\n",
    "            elif (choice2 == 2):\n",
    "                result = lbs_to_kg(value)\n",
    "                print(f\"{value}lbs = {result}kg\")\n",
    "            else:\n",
    "                print(\"Invalid choice. Please try again!\")\n",
    "\n",
    "        elif choice == 3:\n",
    "            print(\"1. Liters to Gallons\")\n",
    "            print(\"2. Gallons to Liters\")\n",
    "            choice2 = int(input(\"Enter your choice (1-2): \"))\n",
    "            value = float(input(\"Enter your value to convert: \"))\n",
    "            if (choice2 == 1):\n",
    "                result = l_to_gal(value)\n",
    "                print(f\"{value}l = {result}gal\")\n",
    "            elif (choice2 == 2):\n",
    "                result = gal_to_l(value)\n",
    "                print(f\"{value}gal = {result}l\")\n",
    "            else:\n",
    "                print(\"Invalid choice. Please try again!\")\n",
    "\n",
    "        else:\n",
    "            print(\"Invalid input. Please try again!\")\n",
    "\n",
    "    except ValueError:\n",
    "        print(\"Invalid input. Please enter a number.\")\n",
    "\n",
    "conversion()"
   ]
  },
  {
   "cell_type": "code",
   "execution_count": 25,
   "id": "60bcf121-b736-4fb8-aa25-34d031faaa69",
   "metadata": {},
   "outputs": [
    {
     "name": "stdout",
     "output_type": "stream",
     "text": [
      "Choose a mathematical operation:\n",
      "1. Sum\n",
      "2. Average\n",
      "3. Maximum\n",
      "4. Minimum\n"
     ]
    },
    {
     "name": "stdin",
     "output_type": "stream",
     "text": [
      "Enter your choice (1-4):  1\n",
      "Enter numbers separated by spaces:  3 8\n"
     ]
    },
    {
     "name": "stdout",
     "output_type": "stream",
     "text": [
      "Sum: 11.0\n"
     ]
    }
   ],
   "source": [
    "#Task02: Create a Python program that performs various mathematical operations on a list of numbers.\n",
    "def calculate_sum(numbers):\n",
    "    return sum(numbers)\n",
    "\n",
    "def calculate_avg(numbers):\n",
    "    return sum(numbers) / len(numbers) if numbers else 0\n",
    "\n",
    "def find_max(numbers):\n",
    "    return max(numbers)\n",
    "\n",
    "def find_min(numbers):\n",
    "    return min(numbers)\n",
    "\n",
    "def main():\n",
    "    try:\n",
    "        print(\"Choose a mathematical operation:\")\n",
    "        print(\"1. Sum\")\n",
    "        print(\"2. Average\")\n",
    "        print(\"3. Maximum\")\n",
    "        print(\"4. Minimum\")\n",
    "        \n",
    "        choice = int(input(\"Enter your choice (1-4): \"))\n",
    "        numbers = list(map(float, input(\"Enter numbers separated by spaces: \").split()))\n",
    "        \n",
    "        if not numbers:\n",
    "            print(\"Error: The list of numbers cannot be empty.\")\n",
    "            return\n",
    "        \n",
    "        if choice == 1:\n",
    "            print(f\"Sum: {calculate_sum(numbers)}\")\n",
    "        elif choice == 2:\n",
    "            print(f\"Average: {calculate_avg(numbers)}\")\n",
    "        elif choice == 3:\n",
    "            print(f\"Maximum: {find_max(numbers)}\")\n",
    "        elif choice == 4:\n",
    "            print(f\"Minimum: {find_min(numbers)}\")\n",
    "        else:\n",
    "            print(\"Invalid choice.\")\n",
    "    except ValueError:\n",
    "        print(\"Invalid input. Please enter numeric values.\")\n",
    "main()\n"
   ]
  },
  {
   "cell_type": "code",
   "execution_count": 26,
   "id": "c484856c-5cc4-4b3f-8440-b64dcb61581f",
   "metadata": {},
   "outputs": [
    {
     "name": "stdin",
     "output_type": "stream",
     "text": [
      "Enter elements separated by space:  1 2 3 4 5\n"
     ]
    },
    {
     "name": "stdout",
     "output_type": "stream",
     "text": [
      "List: ['1', '2', '3', '4', '5']\n",
      "Every other element in the list: ['1', '3', '5']\n"
     ]
    }
   ],
   "source": [
    "#Task01: Extract Every Other Element\n",
    "def extract_every_other(lst):\n",
    "    return lst[::2]\n",
    "\n",
    "def main():\n",
    "    user_input = input(\"Enter elements separated by space: \").split()\n",
    "    print(f\"List:\", user_input)\n",
    "    print(f\"Every other element in the list: {extract_every_other(user_input)}\")\n",
    "\n",
    "if __name__ == \"__main__\":\n",
    "    main()"
   ]
  },
  {
   "cell_type": "code",
   "execution_count": 34,
   "id": "dee56c8a-edc8-438c-984c-8d1609995cd2",
   "metadata": {},
   "outputs": [
    {
     "name": "stdin",
     "output_type": "stream",
     "text": [
      "Enter elements separated by space:  1 2 3 4 5\n",
      "Enter start element:  1\n",
      "Enter end element:  3\n"
     ]
    },
    {
     "name": "stdout",
     "output_type": "stream",
     "text": [
      "List: ['1', '2', '3', '4', '5']\n",
      "Sliced Sublist: ['2', '3', '4']\n"
     ]
    }
   ],
   "source": [
    "#Task02: Slice a Sublist\n",
    "def get_sublist(lst, start, end):\n",
    "    return lst[start:end+1]\n",
    "\n",
    "def main():\n",
    "    user_input = input(\"Enter elements separated by space: \").split()\n",
    "    start = int(input(\"Enter start element: \"))\n",
    "    end = int(input(\"Enter end element: \"))   \n",
    "    print(f\"List:\", user_input)\n",
    "    print(f\"Sliced Sublist: {get_sublist(user_input, start, end)}\")\n",
    "\n",
    "if __name__ == \"__main__\":\n",
    "    main()"
   ]
  },
  {
   "cell_type": "code",
   "execution_count": 35,
   "id": "ff85bc77-3b6e-42f9-9b18-ffc616edfcc2",
   "metadata": {},
   "outputs": [
    {
     "name": "stdin",
     "output_type": "stream",
     "text": [
      "Enter elements separated by space:  1 2 3 4 5\n"
     ]
    },
    {
     "name": "stdout",
     "output_type": "stream",
     "text": [
      "List: ['1', '2', '3', '4', '5']\n",
      "Reversed List: ['5', '4', '3', '2', '1']\n"
     ]
    }
   ],
   "source": [
    "#Task03: Reverse a List Using Slicing:\n",
    "def reverse_list(lst):\n",
    "    return lst[::-1]\n",
    "\n",
    "def main():\n",
    "    user_input = input(\"Enter elements separated by space: \").split()\n",
    "    print(f\"List:\", user_input)\n",
    "    print(f\"Reversed List: {reverse_list(user_input)}\")\n",
    "\n",
    "if __name__ == \"__main__\":\n",
    "    main()"
   ]
  },
  {
   "cell_type": "code",
   "execution_count": 37,
   "id": "48bbfe38-b1b1-47d1-8c1e-ac2e0cad5c62",
   "metadata": {},
   "outputs": [
    {
     "name": "stdin",
     "output_type": "stream",
     "text": [
      "Enter elements separated by space:  1 2 3 4 5\n"
     ]
    },
    {
     "name": "stdout",
     "output_type": "stream",
     "text": [
      "List: ['1', '2', '3', '4', '5']\n",
      "Removed first and last elements from list: ['2', '3', '4']\n"
     ]
    }
   ],
   "source": [
    "#Task04: Remove the First and Last Elements:\n",
    "def remove_first_last(lst):\n",
    "    return lst[1:-1]\n",
    "\n",
    "def main():\n",
    "    user_input = input(\"Enter elements separated by space: \").split()\n",
    "    print(f\"List:\", user_input)\n",
    "    print(f\"Removed first and last elements from list: {remove_first_last(user_input)}\")\n",
    "\n",
    "if __name__ == \"__main__\":\n",
    "    main()"
   ]
  },
  {
   "cell_type": "code",
   "execution_count": 38,
   "id": "3a8ecfda-1a3a-46cd-9bd7-d6a66e25438f",
   "metadata": {},
   "outputs": [
    {
     "name": "stdin",
     "output_type": "stream",
     "text": [
      "Enter elements separated by space:  1 2 3 4 5 6\n",
      "Enter the number of elements to be displayed:  4\n"
     ]
    },
    {
     "name": "stdout",
     "output_type": "stream",
     "text": [
      "List: ['1', '2', '3', '4', '5', '6']\n",
      "First 4 elements: ['1', '2', '3', '4']\n"
     ]
    }
   ],
   "source": [
    "#Task05: Get the First n Elements:\n",
    "def get_first_n(lst, n):\n",
    "    return lst[:n]\n",
    "\n",
    "def main():\n",
    "    user_input = input(\"Enter elements separated by space: \").split()\n",
    "    n = int(input(\"Enter the number of elements to be displayed: \"))\n",
    "    print(f\"List:\", user_input)\n",
    "    print(f\"First {n} elements: {get_first_n(user_input, n)}\")\n",
    "\n",
    "if __name__ == \"__main__\":\n",
    "    main()"
   ]
  },
  {
   "cell_type": "code",
   "execution_count": 39,
   "id": "b279c521-85d2-45e1-8bf1-07a833b11173",
   "metadata": {},
   "outputs": [
    {
     "name": "stdin",
     "output_type": "stream",
     "text": [
      "Enter elements separated by space:  1 2 3 4 5 6\n",
      "Enter the number of elements to be displayed from last:  3\n"
     ]
    },
    {
     "name": "stdout",
     "output_type": "stream",
     "text": [
      "List: ['1', '2', '3', '4', '5', '6']\n",
      "Every other element in the list: ['4', '5', '6']\n"
     ]
    }
   ],
   "source": [
    "#Task06: Extract Elements from the End:\n",
    "def get_last_n(lst, n):\n",
    "    return lst[-n:]\n",
    "\n",
    "def main():\n",
    "    user_input = input(\"Enter elements separated by space: \").split()\n",
    "    n = int(input(\"Enter the number of elements to be displayed from last: \"))\n",
    "    print(f\"List:\", user_input)\n",
    "    print(f\"Every other element in the list: {get_last_n(user_input, n)}\")\n",
    "\n",
    "if __name__ == \"__main__\":\n",
    "    main()"
   ]
  },
  {
   "cell_type": "code",
   "execution_count": 40,
   "id": "897cf4e3-278e-4908-bf1b-5c08b2476161",
   "metadata": {},
   "outputs": [
    {
     "name": "stdin",
     "output_type": "stream",
     "text": [
      "Enter elements separated by space:  1 2 3 4 5 6\n"
     ]
    },
    {
     "name": "stdout",
     "output_type": "stream",
     "text": [
      "List: ['1', '2', '3', '4', '5', '6']\n",
      "Elements in reverse order starting from second-to-last: ['5', '3', '1']\n"
     ]
    }
   ],
   "source": [
    "#Task07: Extract Elements in Reverse Order:\n",
    "def reverse_skip(lst):\n",
    "    return lst[-2::-2]\n",
    "\n",
    "def main():\n",
    "    user_input = input(\"Enter elements separated by space: \").split()\n",
    "    print(f\"List:\", user_input)\n",
    "    print(f\"Elements in reverse order starting from second-to-last: {reverse_skip(user_input)}\")\n",
    "\n",
    "if __name__ == \"__main__\":\n",
    "    main()"
   ]
  },
  {
   "cell_type": "code",
   "execution_count": 43,
   "id": "1ac49c2f-1f52-49b2-9101-ed5d80c39881",
   "metadata": {},
   "outputs": [
    {
     "name": "stdin",
     "output_type": "stream",
     "text": [
      "Enter the number of sublists:  2\n",
      "Enter the number of elements in sublist 1:  2\n",
      "Enter element 1 of sublist 1:  4\n",
      "Enter element 2 of sublist 1:  5\n",
      "Enter the number of elements in sublist 2:  8\n",
      "Enter element 1 of sublist 2:  9\n",
      "Enter element 2 of sublist 2:  1\n",
      "Enter element 3 of sublist 2:  2\n",
      "Enter element 4 of sublist 2:  3\n",
      "Enter element 5 of sublist 2:  4\n",
      "Enter element 6 of sublist 2:  5\n",
      "Enter element 7 of sublist 2:  6\n",
      "Enter element 8 of sublist 2:  7\n"
     ]
    },
    {
     "name": "stdout",
     "output_type": "stream",
     "text": [
      "Original Nested List: [['4', '5'], ['9', '1', '2', '3', '4', '5', '6', '7']]\n",
      "Flattened List: ['4', '5', '9', '1', '2', '3', '4', '5', '6', '7']\n"
     ]
    }
   ],
   "source": [
    "#Task01: Flatten a Nested List\n",
    "def flatten(lst):\n",
    "    flat_list = []\n",
    "    for item in lst:\n",
    "        if isinstance(item, list):\n",
    "            flat_list.extend(flatten(item))\n",
    "        else:\n",
    "            flat_list.append(item)\n",
    "    return flat_list\n",
    "\n",
    "def main():\n",
    "    x = int(input(\"Enter the number of sublists: \"))\n",
    "    list1 = []\n",
    "    \n",
    "    for i in range(x):\n",
    "        y = int(input(f\"Enter the number of elements in sublist {i+1}: \"))\n",
    "        sublist = []\n",
    "        for j in range(y):\n",
    "            sublist.append(input(f\"Enter element {j+1} of sublist {i+1}: \"))\n",
    "        list1.append(sublist)\n",
    "    \n",
    "    print(\"Original Nested List:\", list1)\n",
    "    print(\"Flattened List:\", flatten(list1))\n",
    "\n",
    "if __name__ == \"__main__\":\n",
    "    main()"
   ]
  },
  {
   "cell_type": "code",
   "execution_count": 44,
   "id": "c5299c24-0bb0-4262-ac7b-5580d695c045",
   "metadata": {},
   "outputs": [
    {
     "name": "stdin",
     "output_type": "stream",
     "text": [
      "Enter the number of sublists:  2\n",
      "Enter the number of elements in sublist 1:  2\n",
      "Enter element 1 of sublist 1:  3\n",
      "Enter element 2 of sublist 1:  4\n",
      "Enter the number of elements in sublist 2:  2\n",
      "Enter element 1 of sublist 2:  7\n",
      "Enter element 2 of sublist 2:  6\n"
     ]
    },
    {
     "name": "stdout",
     "output_type": "stream",
     "text": [
      "Original Nested List: [['3', '4'], ['7', '6']]\n"
     ]
    },
    {
     "name": "stdin",
     "output_type": "stream",
     "text": [
      "Enter indices separated by space:  1 1\n"
     ]
    },
    {
     "name": "stdout",
     "output_type": "stream",
     "text": [
      "Element at indices [1, 1] : 6\n"
     ]
    }
   ],
   "source": [
    "#Task02: Accessing Nested List Elements\n",
    "def access_nested_element(lst, indices):\n",
    "    elem = lst\n",
    "    for index in indices:\n",
    "        elem = elem[index]\n",
    "    return elem\n",
    "\n",
    "def main():\n",
    "    x = int(input(\"Enter the number of sublists: \"))\n",
    "    list1 = []\n",
    "    \n",
    "    for i in range(x):\n",
    "        y = int(input(f\"Enter the number of elements in sublist {i+1}: \"))\n",
    "        sublist = []\n",
    "        for j in range(y):\n",
    "            sublist.append(input(f\"Enter element {j+1} of sublist {i+1}: \"))\n",
    "        list1.append(sublist)\n",
    "    \n",
    "    print(\"Original Nested List:\", list1)\n",
    "\n",
    "    indices = list(map(int, input(\"Enter indices separated by space: \").split()))\n",
    "    \n",
    "    try:\n",
    "        print(\"Element at indices\", indices, \":\", access_nested_element(list1, indices))\n",
    "    except IndexError:\n",
    "        print(\"Error: Indices out of range!\")\n",
    "\n",
    "if __name__ == \"__main__\":\n",
    "    main()\n"
   ]
  },
  {
   "cell_type": "code",
   "execution_count": 45,
   "id": "823032b2-b42d-42c1-8c8b-3ab8f48c72e1",
   "metadata": {},
   "outputs": [
    {
     "name": "stdin",
     "output_type": "stream",
     "text": [
      "Enter the number of sublists:  3\n",
      "Enter the number of elements in sublist 1:  2\n",
      "Enter element 1 of sublist 1:  2\n",
      "Enter element 2 of sublist 1:  3\n",
      "Enter the number of elements in sublist 2:  2\n",
      "Enter element 1 of sublist 2:  1\n",
      "Enter element 2 of sublist 2:  2\n",
      "Enter the number of elements in sublist 3:  1\n",
      "Enter element 1 of sublist 3:  5\n"
     ]
    },
    {
     "name": "stdout",
     "output_type": "stream",
     "text": [
      "Original Nested List: [[2, 3], [1, 2], [5]]\n",
      "Sum of all elements: 13\n"
     ]
    }
   ],
   "source": [
    "#Task03: Sum of All Elements in a Nested List\n",
    "def sum_nested(lst):\n",
    "    return sum(flatten(lst))\n",
    "\n",
    "def main():\n",
    "    x = int(input(\"Enter the number of sublists: \"))\n",
    "    list1 = []\n",
    "    \n",
    "    for i in range(x):\n",
    "        y = int(input(f\"Enter the number of elements in sublist {i+1}: \"))\n",
    "        sublist = []\n",
    "        for j in range(y):\n",
    "            sublist.append(int(input(f\"Enter element {j+1} of sublist {i+1}: \")))\n",
    "        list1.append(sublist)\n",
    "    \n",
    "    print(\"Original Nested List:\", list1)\n",
    "    print(\"Sum of all elements:\", sum_nested(list1))\n",
    "\n",
    "if __name__ == \"__main__\":\n",
    "    main()\n"
   ]
  },
  {
   "cell_type": "code",
   "execution_count": 46,
   "id": "860f4215-6687-47d0-bcb6-2bac0e6704e6",
   "metadata": {},
   "outputs": [
    {
     "name": "stdin",
     "output_type": "stream",
     "text": [
      "Enter the number of sublists:  3\n",
      "Enter the number of elements in sublist 1:  2\n",
      "Enter element 1 of sublist 1:  1\n",
      "Enter element 2 of sublist 1:  4\n",
      "Enter the number of elements in sublist 2:  2\n",
      "Enter element 1 of sublist 2:  2\n",
      "Enter element 2 of sublist 2:  5\n",
      "Enter the number of elements in sublist 3:  2\n",
      "Enter element 1 of sublist 3:  3\n",
      "Enter element 2 of sublist 3:  6\n",
      "Enter element to remove:  4\n"
     ]
    },
    {
     "name": "stdout",
     "output_type": "stream",
     "text": [
      "Original Nested List: [[1, 4], [2, 5], [3, 6]]\n",
      "Modified list: [[1], [2, 5], [3, 6]]\n"
     ]
    }
   ],
   "source": [
    "#Task04: Remove Specific Element from a Nested List\n",
    "def remove_element(lst, elem):\n",
    "    if isinstance(lst, list):\n",
    "        return [remove_element(sublist, elem) for sublist in lst if sublist != elem]\n",
    "    return lst if lst != elem else None\n",
    "\n",
    "def clean_list(lst):\n",
    "    if isinstance(lst, list):\n",
    "        return [clean_list(item) for item in lst if item is not None]\n",
    "    return lst\n",
    "\n",
    "def main():\n",
    "    x = int(input(\"Enter the number of sublists: \"))\n",
    "    list1 = []\n",
    "    \n",
    "    for i in range(x):\n",
    "        y = int(input(f\"Enter the number of elements in sublist {i+1}: \"))\n",
    "        sublist = []\n",
    "        for j in range(y):\n",
    "            sublist.append(int(input(f\"Enter element {j+1} of sublist {i+1}: \")))\n",
    "        list1.append(sublist)\n",
    "\n",
    "    elem = int(input(\"Enter element to remove: \"))    \n",
    "    modified_list = clean_list(remove_element(list1, elem))\n",
    "\n",
    "    print(\"Original Nested List:\", list1)\n",
    "    print(\"Modified list:\", modified_list)\n",
    "\n",
    "if __name__ == \"__main__\":\n",
    "    main()\n"
   ]
  },
  {
   "cell_type": "code",
   "execution_count": 48,
   "id": "edb5ed7a-0f0c-4791-aec1-60549e85176e",
   "metadata": {},
   "outputs": [
    {
     "name": "stdin",
     "output_type": "stream",
     "text": [
      "Enter the number of sublists:  2\n",
      "Enter the number of elements in sublist 1:  3\n",
      "Enter element 1 of sublist 1:  4\n",
      "Enter element 2 of sublist 1:  2\n",
      "Enter element 3 of sublist 1:  1\n",
      "Enter the number of elements in sublist 2:  3\n",
      "Enter element 1 of sublist 2:  7\n",
      "Enter element 2 of sublist 2:  8\n",
      "Enter element 3 of sublist 2:  6\n"
     ]
    },
    {
     "name": "stdout",
     "output_type": "stream",
     "text": [
      "Original Nested List: [[4, 2, 1], [7, 8, 6]]\n",
      "Maximum element: 8\n"
     ]
    }
   ],
   "source": [
    "#Task05: Find the Maximum Element in a Nested List\n",
    "def find_max(lst):\n",
    "    return max(flatten(lst))\n",
    "\n",
    "def main():\n",
    "    x = int(input(\"Enter the number of sublists: \"))\n",
    "    list1 = []\n",
    "    \n",
    "    for i in range(x):\n",
    "        y = int(input(f\"Enter the number of elements in sublist {i+1}: \"))\n",
    "        sublist = []\n",
    "        for j in range(y):\n",
    "            sublist.append(int(input(f\"Enter element {j+1} of sublist {i+1}: \")))\n",
    "        list1.append(sublist)\n",
    "    \n",
    "    print(\"Original Nested List:\", list1)\n",
    "    print(\"Maximum element:\", find_max(list1))\n",
    "    \n",
    "if __name__ == \"__main__\":\n",
    "    main()"
   ]
  },
  {
   "cell_type": "code",
   "execution_count": 4,
   "id": "61222a2a-4b41-4d74-ab08-7be9fd73979e",
   "metadata": {},
   "outputs": [
    {
     "name": "stdin",
     "output_type": "stream",
     "text": [
      "Enter the number of sublists:  3\n",
      "Enter the number of elements in sublist 1:  2\n",
      "Enter element 1 of sublist 1:  3\n",
      "Enter element 2 of sublist 1:  4\n",
      "Enter the number of elements in sublist 2:  3\n",
      "Enter element 1 of sublist 2:  2\n",
      "Enter element 2 of sublist 2:  3\n",
      "Enter element 3 of sublist 2:  4\n",
      "Enter the number of elements in sublist 3:  3\n",
      "Enter element 1 of sublist 3:  5\n",
      "Enter element 2 of sublist 3:  7\n",
      "Enter element 3 of sublist 3:  3\n",
      "Enter element to find:  3\n"
     ]
    },
    {
     "name": "stdout",
     "output_type": "stream",
     "text": [
      "Original Nested List: [[3, 4], [2, 3, 4], [5, 7, 3]]\n",
      "Occurrences of element: 3\n"
     ]
    }
   ],
   "source": [
    "# Task06: Count Occurrences of an Element in a Nested List\n",
    "\n",
    "def flatten(lst):\n",
    "    \"\"\"Recursively flattens a nested list into a single list.\"\"\"\n",
    "    flat_list = []\n",
    "    for item in lst:\n",
    "        if isinstance(item, list):\n",
    "            flat_list.extend(flatten(item))  # Recursively flatten sublists\n",
    "        else:\n",
    "            flat_list.append(item)\n",
    "    return flat_list\n",
    "\n",
    "def count_occurrences(lst, elem):\n",
    "    return flatten(lst).count(elem)  # Flatten the list and count occurrences of elem\n",
    "\n",
    "def main():\n",
    "    x = int(input(\"Enter the number of sublists: \"))\n",
    "    list1 = []\n",
    "    for i in range(x):\n",
    "        y = int(input(f\"Enter the number of elements in sublist {i+1}: \"))\n",
    "        sublist = []\n",
    "        for j in range(y):\n",
    "            sublist.append(int(input(f\"Enter element {j+1} of sublist {i+1}: \")))\n",
    "        list1.append(sublist)\n",
    "\n",
    "    elem = int(input(\"Enter element to find: \"))    \n",
    "    print(\"Original Nested List:\", list1)\n",
    "    print(\"Occurrences of element:\", count_occurrences(list1, elem))\n",
    "\n",
    "if __name__ == \"__main__\":\n",
    "    main()\n"
   ]
  },
  {
   "cell_type": "code",
   "execution_count": 5,
   "id": "60fbb8f2-535a-4994-8481-d0c5558231ec",
   "metadata": {},
   "outputs": [
    {
     "name": "stdin",
     "output_type": "stream",
     "text": [
      "Enter the number of sublists:  2\n",
      "Enter the number of elements in sublist 1:  3\n",
      "Enter element 1 of sublist 1:  2\n",
      "Enter element 2 of sublist 1:  3\n",
      "Enter element 3 of sublist 1:  4\n",
      "Enter the number of elements in sublist 2:  4\n",
      "Enter element 1 of sublist 2:  3\n",
      "Enter element 2 of sublist 2:  4\n",
      "Enter element 3 of sublist 2:  5\n",
      "Enter element 4 of sublist 2:  6\n"
     ]
    },
    {
     "name": "stdout",
     "output_type": "stream",
     "text": [
      "Original Nested List: [['2', '3', '4'], ['3', '4', '5', '6']]\n",
      "Deep Flattened List: ['2', '3', '4', '3', '4', '5', '6']\n"
     ]
    }
   ],
   "source": [
    "#Task07: Flatten a List of Lists of Lists\n",
    "def deep_flatten(lst):\n",
    "    return flatten(lst)\n",
    "\n",
    "def main():\n",
    "    x = int(input(\"Enter the number of sublists: \"))\n",
    "    list1 = []\n",
    "    \n",
    "    for i in range(x):\n",
    "        y = int(input(f\"Enter the number of elements in sublist {i+1}: \"))\n",
    "        sublist = []\n",
    "        for j in range(y):\n",
    "            sublist.append(input(f\"Enter element {j+1} of sublist {i+1}: \"))\n",
    "        list1.append(sublist)\n",
    "    \n",
    "    print(\"Original Nested List:\", list1)\n",
    "    print(\"Deep Flattened List:\", deep_flatten(list1))\n",
    "\n",
    "if __name__ == \"__main__\":\n",
    "    main()"
   ]
  },
  {
   "cell_type": "code",
   "execution_count": 6,
   "id": "c8061c8f-b161-45e3-be04-a8437ad1d49d",
   "metadata": {},
   "outputs": [
    {
     "name": "stdin",
     "output_type": "stream",
     "text": [
      "Enter the number of sublists:  2\n",
      "Enter the number of elements in sublist 1:  3\n",
      "Enter element 1 of sublist 1:  4\n",
      "Enter element 2 of sublist 1:  5\n",
      "Enter element 3 of sublist 1:  6\n",
      "Enter the number of elements in sublist 2:  3\n",
      "Enter element 1 of sublist 2:  9\n",
      "Enter element 2 of sublist 2:  8\n",
      "Enter element 3 of sublist 2:  7\n"
     ]
    },
    {
     "name": "stdout",
     "output_type": "stream",
     "text": [
      "Original Nested List: [[4, 5, 6], [9, 8, 7]]\n",
      "Average of elements: 6.5\n"
     ]
    }
   ],
   "source": [
    "#Task08: Nested List Average\n",
    "def average_nested(lst):\n",
    "    flat_list = flatten(lst)\n",
    "    return sum(flat_list) / len(flat_list) if flat_list else 0\n",
    "\n",
    "def main():\n",
    "    x = int(input(\"Enter the number of sublists: \"))\n",
    "    list1 = []\n",
    "    \n",
    "    for i in range(x):\n",
    "        y = int(input(f\"Enter the number of elements in sublist {i+1}: \"))\n",
    "        sublist = []\n",
    "        for j in range(y):\n",
    "            sublist.append(int(input(f\"Enter element {j+1} of sublist {i+1}: \")))\n",
    "        list1.append(sublist)\n",
    "    \n",
    "    print(\"Original Nested List:\", list1)\n",
    "    print(\"Average of elements:\", average_nested(list1))\n",
    "\n",
    "if __name__ == \"__main__\":\n",
    "    main()\n",
    "\n"
   ]
  },
  {
   "cell_type": "code",
   "execution_count": 7,
   "id": "9b2f8729-a50d-46ea-8a8d-ddaf828d89d3",
   "metadata": {},
   "outputs": [
    {
     "name": "stdout",
     "output_type": "stream",
     "text": [
      " A zeros array is \n",
      " [[0. 0. 0.]\n",
      " [0. 0. 0.]] with dimensions (2, 3) \n",
      "\n"
     ]
    }
   ],
   "source": [
    "import numpy as np\n",
    "\n",
    "arr_zeros = np.zeros((2,3))\n",
    "print(\" A zeros array is \\n\", arr_zeros, \"with dimensions\", arr_zeros.shape, \"\\n\")"
   ]
  },
  {
   "cell_type": "code",
   "execution_count": 8,
   "id": "089fd6ff-3fd2-4cee-b276-941956311139",
   "metadata": {},
   "outputs": [
    {
     "name": "stdout",
     "output_type": "stream",
     "text": [
      "Array:\n",
      "5\n",
      "Dimension: 0\n",
      "Data type: int32\n",
      "\n",
      "Array:\n",
      "[5 6 7]\n",
      "Dimension: 1\n",
      "Data type: int32\n",
      "\n",
      "Array:\n",
      "[[5 6]\n",
      " [7 8]]\n",
      "Dimension: 2\n",
      "Data type: int32\n",
      "\n"
     ]
    }
   ],
   "source": [
    "zero_dim_array = np.array(5)\n",
    "one_dim_array = np.array([5, 6, 7])\n",
    "n_dim_array = np.array([[5, 6], [7, 8]])\n",
    "\n",
    "for arr in [zero_dim_array, one_dim_array, n_dim_array]:\n",
    "    print(f\"Array:\\n{arr}\\nDimension: {arr.ndim}\\nData type: {arr.dtype}\\n\")"
   ]
  },
  {
   "cell_type": "code",
   "execution_count": 9,
   "id": "7563b8c5-74fd-476d-a8de-fb7c16320d5c",
   "metadata": {},
   "outputs": [
    {
     "name": "stdout",
     "output_type": "stream",
     "text": [
      "1\n",
      "2\n",
      "Dimension of 3d array: {arr_3d.ndim}\n",
      "Shape of 1d array: {arr_1d.shape}\n",
      "Shape of 2d array: {arr_2d.shape}\n",
      "Shape of 3d array: {arr_3d.shape}\n",
      "Size of 1d array: {arr_1d.size}\n",
      "Size of 2d array: {arr_2d.size}\n",
      "Size of 3d array: {arr_3d.size}\n",
      "Datatype of 1d array: {arr_1d.dtype}\n",
      "Datatype of float array: {arr_float.dtype}\n",
      "Size of items in 1d array: {arr_1d.itemsize}\n",
      "Total memory Consumption: {arr_1d.nbytes}\n",
      "Transposed version of 2D array: {arr_2d.T}\n",
      "1 2 3 4 5 6 "
     ]
    }
   ],
   "source": [
    "#.ndim Number of Dimensions:\n",
    "arr_1d = np.array([1, 2, 3, 4, 5])\n",
    "print(arr_1d.ndim)\n",
    "# For a 2-D array:\n",
    "arr_2d = np.array([[1, 2, 3],\n",
    "[4, 5, 6]])\n",
    "print(arr_2d.ndim)\n",
    "#For a 3-D array:\n",
    "arr_3d = np.array([[[1, 2, 3],\n",
    "[4, 5, 6]],\n",
    "[[7, 8, 9],\n",
    "[10, 11, 12]]])\n",
    "print(\"Dimension of 3d array: {arr_3d.ndim}\")\n",
    "\n",
    "#.shape Shape of the Array:\n",
    "print(\"Shape of 1d array: {arr_1d.shape}\")\n",
    "print(\"Shape of 2d array: {arr_2d.shape}\")\n",
    "print(\"Shape of 3d array: {arr_3d.shape}\")\n",
    "\n",
    "#.size Total Number of Elements\n",
    "print(\"Size of 1d array: {arr_1d.size}\")\n",
    "print(\"Size of 2d array: {arr_2d.size}\")\n",
    "print(\"Size of 3d array: {arr_3d.size}\")\n",
    "\n",
    "#.dtype Data Type of Elements\n",
    "print(\"Datatype of 1d array: {arr_1d.dtype}\") \n",
    "arr_float = np.array([1.1, 2.2, 3.3])\n",
    "print(\"Datatype of float array: {arr_float.dtype}\") \n",
    "\n",
    "# .itemsize Size of Each Element in Bytes\n",
    "print(\"Size of items in 1d array: {arr_1d.itemsize}\")\n",
    "\n",
    "#.nbytes Total Memory Consumption\n",
    "print(\"Total memory Consumption: {arr_1d.nbytes}\")\n",
    "\n",
    "#print(arr_1d.nbytes)\n",
    "print(\"Transposed version of 2D array: {arr_2d.T}\")\n",
    "\n",
    "#.flat Flattening the Array\n",
    "for item in arr_2d.flat:\n",
    "    print(item, end=\" \")\n",
    "\n",
    "#.real and .imag - Real and Imaginary Parts\n",
    "arr_complex = np.array([1+2j, 3+4j])\n"
   ]
  },
  {
   "cell_type": "code",
   "execution_count": 10,
   "id": "edb57b3c-2668-4cd0-aa2e-a2d66cc47459",
   "metadata": {},
   "outputs": [
    {
     "name": "stdout",
     "output_type": "stream",
     "text": [
      "1. Empty Array (2x2):\n",
      " [[0.00000000e+000 9.91256514e-312]\n",
      " [9.91256514e-312 9.91256514e-312]]\n",
      "\n",
      "2. All Ones Array (4x2):\n",
      " [[1. 1.]\n",
      " [1. 1.]\n",
      " [1. 1.]\n",
      " [1. 1.]]\n",
      "\n",
      "3. Array filled with 7 (3x3):\n",
      " [[7 7 7]\n",
      " [7 7 7]\n",
      " [7 7 7]]\n",
      "\n",
      "4. Zeros Array with Same Shape as Reference Array:\n",
      " [[0 0]\n",
      " [0 0]]\n",
      "\n",
      "5. Ones Array with Same Shape as Reference Array:\n",
      " [[1 1]\n",
      " [1 1]]\n",
      "\n",
      "6. Converted NumPy Array:\n",
      " [1 2 3 4]\n"
     ]
    }
   ],
   "source": [
    "import numpy as np\n",
    "# 1. Initialize an empty array with size 2x2\n",
    "empty_array = np.empty((2, 2))\n",
    "print(\"1. Empty Array (2x2):\\n\", empty_array)\n",
    "\n",
    "# 2. Initialize an all-one array with size 4x2\n",
    "ones_array = np.ones((4, 2))\n",
    "print(\"\\n2. All Ones Array (4x2):\\n\", ones_array)\n",
    "\n",
    "# 3. Return a new array of given shape and type, filled with a fill value\n",
    "fill_value_array = np.full((3, 3), 7)  \n",
    "print(\"\\n3. Array filled with 7 (3x3):\\n\", fill_value_array)\n",
    "\n",
    "# 4. Return a new array of zeros with the same shape and type as a given array\n",
    "reference_array = np.array([[1, 2], [3, 4]])  \n",
    "zeros_like_array = np.zeros_like(reference_array)\n",
    "print(\"\\n4. Zeros Array with Same Shape as Reference Array:\\n\", zeros_like_array)\n",
    "\n",
    "# 5. Return a new array of ones with the same shape and type as a given array\n",
    "ones_like_array = np.ones_like(reference_array)\n",
    "print(\"\\n5. Ones Array with Same Shape as Reference Array:\\n\", ones_like_array)\n",
    "\n",
    "# 6. Convert an existing list to a NumPy array\n",
    "new_list = [1, 2, 3, 4]\n",
    "numpy_array = np.array(new_list)\n",
    "print(\"\\n6. Converted NumPy Array:\\n\", numpy_array)\n"
   ]
  },
  {
   "cell_type": "code",
   "execution_count": 11,
   "id": "f3ece3bf-1f8c-4071-87fa-484b87b57765",
   "metadata": {},
   "outputs": [
    {
     "name": "stdout",
     "output_type": "stream",
     "text": [
      "\n",
      "1. Array with values ranging from 10 to 49:\n",
      " [10 11 12 13 14 15 16 17 18 19 20 21 22 23 24 25 26 27 28 29 30 31 32 33\n",
      " 34 35 36 37 38 39 40 41 42 43 44 45 46 47 48 49]\n",
      "\n",
      "2. 3X3 matrix with values ranging from 0 to 8:\n",
      " [[0 1 2]\n",
      " [3 4 5]\n",
      " [6 7 8]]\n",
      "\n",
      "3. 3X3 identity matrix:\n",
      " [[1. 0. 0.]\n",
      " [0. 1. 0.]\n",
      " [0. 0. 1.]]\n",
      "\n",
      "4 .Random array of size 30:\n",
      " [0.96807096 0.43703484 0.77421274 0.2668134  0.70128179 0.08731101\n",
      " 0.70111439 0.56187693 0.24820733 0.88985099 0.23410672 0.25070637\n",
      " 0.41183636 0.88377141 0.39868143 0.69112911 0.22160116 0.61809477\n",
      " 0.12900792 0.03898394 0.79773438 0.8564176  0.59169931 0.67365414\n",
      " 0.17657148 0.58189968 0.43734739 0.85654149 0.16679614 0.67106342]\n",
      "\n",
      "4.1. Mean of above array:\n",
      " 0.5107806203409582\n",
      "\n",
      "5. 10X10 array with random values:\n",
      " [[0.47286529 0.64764164 0.14007078 0.25758436 0.42651553 0.14279385\n",
      "  0.81225309 0.95619639 0.95719315 0.04866424]\n",
      " [0.48254779 0.1828395  0.31883662 0.16307003 0.64605112 0.01658502\n",
      "  0.30807378 0.18710496 0.15203286 0.20192616]\n",
      " [0.45761104 0.85743023 0.15456349 0.12838314 0.70540765 0.01114739\n",
      "  0.46559523 0.78523695 0.82984116 0.03053411]\n",
      " [0.09258257 0.78756215 0.90424152 0.9704642  0.20225606 0.77462441\n",
      "  0.90853555 0.29444392 0.35800012 0.44386801]\n",
      " [0.93126579 0.66805601 0.68867238 0.83308034 0.82742168 0.77123189\n",
      "  0.49946474 0.69760753 0.04651361 0.80548075]\n",
      " [0.24657466 0.67366937 0.41788187 0.22813934 0.64605819 0.38752783\n",
      "  0.89978672 0.9419886  0.99086714 0.13880517]\n",
      " [0.79839679 0.89389221 0.37389274 0.66410303 0.72818924 0.5239584\n",
      "  0.30978038 0.2342535  0.84022838 0.78592659]\n",
      " [0.32793277 0.1114282  0.64965701 0.0936414  0.8784658  0.17562535\n",
      "  0.46767279 0.3480748  0.95519325 0.48225022]\n",
      " [0.70765983 0.26094036 0.81335997 0.64559782 0.94563668 0.93418368\n",
      "  0.9141792  0.78735402 0.19321378 0.03734669]\n",
      " [0.013022   0.99269175 0.01550766 0.40197992 0.32626494 0.48507643\n",
      "  0.14795856 0.73123583 0.4252253  0.71419782]]\n",
      "\n",
      "5.1. Minimum Value:\n",
      " 0.011147389582273015\n",
      "\n",
      "5.2. Maximum Value:\n",
      " 0.9926917490459181\n",
      "\n",
      "6. Zero array of size 10 and 5th element replaced with 1:\n",
      " [0. 0. 0. 0. 1. 0. 0. 0. 0. 0.]\n",
      "\n",
      "7. Reversed Array:\n",
      " [0 4 0 0 2 1]\n",
      "\n",
      "8. 2d array with 1 on border and 0 inside:\n",
      " [[1. 1. 1. 1. 1.]\n",
      " [1. 0. 0. 0. 1.]\n",
      " [1. 0. 0. 0. 1.]\n",
      " [1. 0. 0. 0. 1.]\n",
      " [1. 1. 1. 1. 1.]]\n",
      "\n",
      "9. 8X8 matrix filled with a checkerboard pattern:\n",
      " [[0 1 0 1 0 1 0 1]\n",
      " [1 0 1 0 1 0 1 0]\n",
      " [0 1 0 1 0 1 0 1]\n",
      " [1 0 1 0 1 0 1 0]\n",
      " [0 1 0 1 0 1 0 1]\n",
      " [1 0 1 0 1 0 1 0]\n",
      " [0 1 0 1 0 1 0 1]\n",
      " [1 0 1 0 1 0 1 0]]\n"
     ]
    }
   ],
   "source": [
    "# Problem - 2: Array Manipulation: Numerical Ranges and Array Indexing\n",
    "\n",
    "# 1. Create an array with values ranging from 10 to 49.\n",
    "array_10_49 = np.arange(10, 50)\n",
    "print(\"\\n1. Array with values ranging from 10 to 49:\\n\", array_10_49)\n",
    "\n",
    "# 2. Create a 3X3 matrix with values ranging from 0 to 8.\n",
    "matrix_3x3 = np.arange(9).reshape(3, 3)\n",
    "print(\"\\n2. 3X3 matrix with values ranging from 0 to 8:\\n\", matrix_3x3)\n",
    "\n",
    "# 3. Create a 3X3 identity matrix.\n",
    "identity_matrix = np.eye(3)\n",
    "print(\"\\n3. 3X3 identity matrix:\\n\", identity_matrix)\n",
    "\n",
    "# 4. Create a random array of size 30 and find the mean of the array.\n",
    "random_array = np.random.random(30)\n",
    "mean_value = random_array.mean()\n",
    "print(\"\\n4 .Random array of size 30:\\n\", random_array)\n",
    "print(\"\\n4.1. Mean of above array:\\n\", mean_value)\n",
    "\n",
    "# 5. Create a 10X10 array with random values and find the minimum and maximum values.\n",
    "random_matrix = np.random.random((10, 10))\n",
    "min_value = random_matrix.min()\n",
    "max_value = random_matrix.max()\n",
    "print(\"\\n5. 10X10 array with random values:\\n\", random_matrix)\n",
    "print(\"\\n5.1. Minimum Value:\\n\", min_value)\n",
    "print(\"\\n5.2. Maximum Value:\\n\", max_value)\n",
    "\n",
    "# 6. Create a zero array of size 10 and replace 5th element with 1.\n",
    "zero_array = np.zeros(10)\n",
    "zero_array[4] = 1  # Indexing starts from 0\n",
    "print(\"\\n6. Zero array of size 10 and 5th element replaced with 1:\\n\", zero_array)\n",
    "\n",
    "# 7. Reverse an array arr = [1,2,0,0,4,0].\n",
    "arr = np.array([1, 2, 0, 0, 4, 0])\n",
    "reversed_arr = arr[::-1]\n",
    "print(\"\\n7. Reversed Array:\\n\", reversed_arr)\n",
    "\n",
    "# 8. Create a 2d array with 1 on border and 0 inside.\n",
    "border_array = np.ones((5, 5))\n",
    "border_array[1:-1, 1:-1] = 0\n",
    "print(\"\\n8. 2d array with 1 on border and 0 inside:\\n\", border_array)\n",
    "\n",
    "# 9. Create a 8X8 matrix and fill it with a checkerboard pattern.\n",
    "checkerboard = np.zeros((8, 8), dtype=int)\n",
    "checkerboard[1::2, ::2] = 1\n",
    "checkerboard[::2, 1::2] = 1\n",
    "print(\"\\n9. 8X8 matrix filled with a checkerboard pattern:\\n\", checkerboard)"
   ]
  },
  {
   "cell_type": "code",
   "execution_count": 12,
   "id": "627f7e05-e299-462f-800b-bb5d5b231c42",
   "metadata": {},
   "outputs": [
    {
     "name": "stdout",
     "output_type": "stream",
     "text": [
      "Addition of x and y:\n",
      " [[ 6  8]\n",
      " [10 13]]\n",
      "\n",
      "Subtraction of x and y:\n",
      " [[-4 -4]\n",
      " [-4 -3]]\n",
      "\n",
      "Multiplication of x with 3:\n",
      " [[ 3  6]\n",
      " [ 9 15]]\n",
      "\n",
      "Square of each element of x:\n",
      " [[ 1  4]\n",
      " [ 9 25]]\n",
      "\n",
      "Dot product of v and w: 219\n",
      "\n",
      "Dot product of x and v:\n",
      " [29 77]\n",
      "\n",
      "Dot product of x and y:\n",
      " [[19 22]\n",
      " [50 58]]\n",
      "\n",
      "Concatenation of x and y along rows:\n",
      " [[1 2]\n",
      " [3 5]\n",
      " [5 6]\n",
      " [7 8]]\n",
      "\n",
      "Concatenation of v and w along columns:\n",
      " [[ 9 10]\n",
      " [11 12]]\n",
      "\n",
      "Error while concatenating x and v: all the input arrays must have same number of dimensions, but the array at index 0 has 2 dimension(s) and the array at index 1 has 1 dimension(s)\n",
      "Reason: x has shape (2,2) and v has shape (2,). Their dimensions are incompatible for direct concatenation.\n"
     ]
    }
   ],
   "source": [
    "import numpy as np\n",
    "\n",
    "# Given arrays\n",
    "x = np.array([[1, 2], [3, 5]])\n",
    "y = np.array([[5, 6], [7, 8]])\n",
    "v = np.array([9, 10])\n",
    "w = np.array([11, 12])\n",
    "\n",
    "# 1. Add the two arrays\n",
    "add_xy = x + y\n",
    "print(\"Addition of x and y:\\n\", add_xy)\n",
    "\n",
    "# 2. Subtract the two arrays\n",
    "sub_xy = x - y\n",
    "print(\"\\nSubtraction of x and y:\\n\", sub_xy)\n",
    "\n",
    "# 3. Multiply the array x with any integer (e.g., 3)\n",
    "mult_x = x * 3\n",
    "print(\"\\nMultiplication of x with 3:\\n\", mult_x)\n",
    "\n",
    "# 4. Find the square of each element of x\n",
    "square_x = x ** 2\n",
    "print(\"\\nSquare of each element of x:\\n\", square_x)\n",
    "\n",
    "# 5. Dot product calculations\n",
    "dot_vw = np.dot(v, w)\n",
    "dot_xv = np.dot(x, v)\n",
    "dot_xy = np.dot(x, y)\n",
    "\n",
    "print(\"\\nDot product of v and w:\", dot_vw)\n",
    "print(\"\\nDot product of x and v:\\n\", dot_xv)\n",
    "print(\"\\nDot product of x and y:\\n\", dot_xy)\n",
    "\n",
    "# 6. Concatenation\n",
    "concat_xy_row = np.concatenate((x, y), axis=0)  # Along rows\n",
    "concat_vw_col = np.vstack((v, w))  # Along columns\n",
    "\n",
    "print(\"\\nConcatenation of x and y along rows:\\n\", concat_xy_row)\n",
    "print(\"\\nConcatenation of v and w along columns:\\n\", concat_vw_col)\n",
    "\n",
    "# 7. Concatenate x and v\n",
    "try:\n",
    "    concat_xv = np.concatenate((x, v), axis=0)  # Attempting to concatenate x and v\n",
    "    print(\"\\nConcatenation of x and v:\\n\", concat_xv)\n",
    "except ValueError as e:\n",
    "    print(\"\\nError while concatenating x and v:\", e)\n",
    "    print(\"Reason: x has shape (2,2) and v has shape (2,). Their dimensions are incompatible for direct concatenation.\")"
   ]
  },
  {
   "cell_type": "code",
   "execution_count": 13,
   "id": "ed35d2da-003e-4b2e-8a81-ea726585151a",
   "metadata": {},
   "outputs": [
    {
     "name": "stdout",
     "output_type": "stream",
     "text": [
      "A * A_inv:\n",
      " [[1.00000000e+00 0.00000000e+00]\n",
      " [1.77635684e-15 1.00000000e+00]]\n",
      "\n",
      "Identity Matrix:\n",
      " [[1. 0.]\n",
      " [0. 1.]]\n"
     ]
    }
   ],
   "source": [
    "A = np.array([[3, 4], [7, 8]])\n",
    "B = np.array([[5, 3], [2, 1]])\n",
    "\n",
    "A_inv = np.linalg.inv(A)\n",
    "\n",
    "identity_matrix = np.dot(A, A_inv)\n",
    "\n",
    "print(\"A * A_inv:\\n\", identity_matrix)\n",
    "print(\"\\nIdentity Matrix:\\n\", np.eye(2))  # Expected identity matrix"
   ]
  },
  {
   "cell_type": "code",
   "execution_count": 14,
   "id": "cc1eaaba-d767-44cb-bb62-64d9982fca67",
   "metadata": {},
   "outputs": [
    {
     "name": "stdout",
     "output_type": "stream",
     "text": [
      "\n",
      "AB:\n",
      " [[23 13]\n",
      " [51 29]]\n",
      "\n",
      "BA:\n",
      " [[36 44]\n",
      " [13 16]]\n",
      "\n",
      "Are AB and BA equal? False\n"
     ]
    }
   ],
   "source": [
    "AB = np.dot(A, B)\n",
    "BA = np.dot(B, A)\n",
    "\n",
    "print(\"\\nAB:\\n\", AB)\n",
    "print(\"\\nBA:\\n\", BA)\n",
    "print(\"\\nAre AB and BA equal?\", np.array_equal(AB, BA))"
   ]
  },
  {
   "cell_type": "code",
   "execution_count": 15,
   "id": "a527cb81-4b43-467c-85fa-f01867e1b2e7",
   "metadata": {},
   "outputs": [
    {
     "name": "stdout",
     "output_type": "stream",
     "text": [
      "\n",
      "(AB)^T:\n",
      " [[23 51]\n",
      " [13 29]]\n",
      "\n",
      "B^T * A^T:\n",
      " [[23 51]\n",
      " [13 29]]\n",
      "\n",
      "Are (AB)^T and B^T * A^T equal? True\n"
     ]
    }
   ],
   "source": [
    "AB_T = np.transpose(AB)\n",
    "\n",
    "BT = np.transpose(B)\n",
    "AT = np.transpose(A)\n",
    "BT_AT = np.dot(BT, AT)\n",
    "\n",
    "print(\"\\n(AB)^T:\\n\", AB_T)\n",
    "print(\"\\nB^T * A^T:\\n\", BT_AT)\n",
    "print(\"\\nAre (AB)^T and B^T * A^T equal?\", np.array_equal(AB_T, BT_AT))"
   ]
  },
  {
   "cell_type": "code",
   "execution_count": 16,
   "id": "7df9758b-d22e-44ff-9888-6c95e407b757",
   "metadata": {},
   "outputs": [
    {
     "name": "stdout",
     "output_type": "stream",
     "text": [
      "\n",
      "Solution for (x, y, z):\n",
      " [ 2.  1. -2.]\n"
     ]
    }
   ],
   "source": [
    "A = np.array([[2, -3, 1], [1, -1, 2], [3, 1, -1]])\n",
    "B = np.array([-1, -3, 9])\n",
    "\n",
    "A_inv = np.linalg.inv(A)\n",
    "\n",
    "X = np.dot(A_inv, B)\n",
    "\n",
    "print(\"\\nSolution for (x, y, z):\\n\", X)"
   ]
  },
  {
   "cell_type": "code",
   "execution_count": null,
   "id": "724feccd-4626-48bf-b984-f1183eb745bd",
   "metadata": {},
   "outputs": [],
   "source": [
    "import numpy as np\n",
    "import time\n",
    "\n",
    "# 1. Element-wise Addition\n",
    "size = 1_000_000\n",
    "\n",
    "# Generate lists and arrays\n",
    "list1 = list(range(size))\n",
    "list2 = list(range(size))\n",
    "\n",
    "array1 = np.arange(size)\n",
    "array2 = np.arange(size)\n",
    "\n",
    "# Using Python lists\n",
    "start_time = time.time()\n",
    "list_addition = [list1[i] + list2[i] for i in range(size)]\n",
    "end_time = time.time()\n",
    "print(\"Time taken for element-wise addition using lists:\", end_time - start_time, \"seconds\")\n",
    "\n",
    "# Using NumPy arrays\n",
    "start_time = time.time()\n",
    "array_addition = array1 + array2\n",
    "end_time = time.time()\n",
    "print(\"Time taken for element-wise addition using NumPy:\", end_time - start_time, \"seconds\")\n",
    "\n",
    "\n",
    "# 2. Element-wise Multiplication\n",
    "\n",
    "# Using Python lists\n",
    "start_time = time.time()\n",
    "list_multiplication = [list1[i] * list2[i] for i in range(size)]\n",
    "end_time = time.time()\n",
    "print(\"\\nTime taken for element-wise multiplication using lists:\", end_time - start_time, \"seconds\")\n",
    "\n",
    "# Using NumPy arrays\n",
    "start_time = time.time()\n",
    "array_multiplication = array1 * array2\n",
    "end_time = time.time()\n",
    "print(\"Time taken for element-wise multiplication using NumPy:\", end_time - start_time, \"seconds\")\n",
    "\n",
    "\n",
    "# 3. Dot Product\n",
    "\n",
    "# Using Python lists\n",
    "start_time = time.time()\n",
    "dot_product_list = sum(list1[i] * list2[i] for i in range(size))\n",
    "end_time = time.time()\n",
    "print(\"\\nTime taken for dot product using lists:\", end_time - start_time, \"seconds\")\n",
    "\n",
    "# Using NumPy arrays\n",
    "start_time = time.time()\n",
    "dot_product_numpy = np.dot(array1, array2)\n",
    "end_time = time.time()\n",
    "print(\"Time taken for dot product using NumPy:\", end_time - start_time, \"seconds\")\n",
    "\n",
    "\n",
    "# 4. Matrix Multiplication\n",
    "matrix_size = 1000\n",
    "\n",
    "# Generate matrices\n",
    "matrix1_list = [[i + j for j in range(matrix_size)] for i in range(matrix_size)]\n",
    "matrix2_list = [[i - j for j in range(matrix_size)] for i in range(matrix_size)]\n",
    "\n",
    "matrix1_np = np.array(matrix1_list)\n",
    "matrix2_np = np.array(matrix2_list)\n",
    "\n",
    "# Using Python lists\n",
    "start_time = time.time()\n",
    "result_matrix_list = [[sum(matrix1_list[i][k] * matrix2_list[k][j] for k in range(matrix_size))\n",
    "                       for j in range(matrix_size)] for i in range(matrix_size)]\n",
    "end_time = time.time()\n",
    "print(\"\\nTime taken for matrix multiplication using lists:\", end_time - start_time, \"seconds\")\n",
    "\n",
    "# Using NumPy arrays\n",
    "start_time = time.time()\n",
    "result_matrix_np = np.dot(matrix1_np, matrix2_np)\n",
    "end_time = time.time()\n",
    "print(\"Time taken for matrix multiplication using NumPy:\", end_time - start_time, \"seconds\")"
   ]
  },
  {
   "cell_type": "code",
   "execution_count": null,
   "id": "271b4852-bb25-47b6-a7be-6806a99eae1d",
   "metadata": {},
   "outputs": [],
   "source": []
  }
 ],
 "metadata": {
  "kernelspec": {
   "display_name": "Python 3 (ipykernel)",
   "language": "python",
   "name": "python3"
  },
  "language_info": {
   "codemirror_mode": {
    "name": "ipython",
    "version": 3
   },
   "file_extension": ".py",
   "mimetype": "text/x-python",
   "name": "python",
   "nbconvert_exporter": "python",
   "pygments_lexer": "ipython3",
   "version": "3.11.1"
  }
 },
 "nbformat": 4,
 "nbformat_minor": 5
}
