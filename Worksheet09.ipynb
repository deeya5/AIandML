{
 "cells": [
  {
   "cell_type": "code",
   "execution_count": 1,
   "id": "6afb152c-79ad-4de7-9619-24ab48e8b212",
   "metadata": {},
   "outputs": [],
   "source": [
    "import os\n",
    "root_path =\"C:/Users/Admin/OneDrive/Desktop/College/SEM-6/AI_ML/Worksheet09\""
   ]
  },
  {
   "cell_type": "code",
   "execution_count": 4,
   "id": "0705079a-6abb-449e-b7bf-130596f1111e",
   "metadata": {},
   "outputs": [
    {
     "name": "stdout",
     "output_type": "stream",
     "text": [
      "✅ CSV file saved to: C:/Users/Admin/OneDrive/Desktop/College/SEM-6/AI_ML/Worksheet09\\raw_data.csv\n"
     ]
    }
   ],
   "source": [
    "import pandas as pd\n",
    "import os\n",
    "\n",
    "# Path to the original data file\n",
    "data_path = \"C:/Users/Admin/OneDrive/Desktop/JUPYTER/npi.txt\"\n",
    "# Read the .txt file into a DataFrame\n",
    "lines = pd.read_table(data_path, names=['source', 'target', 'comments'])\n",
    "\n",
    "# Drop the 'comments' column if it exists\n",
    "if 'comments' in lines.columns:\n",
    "    lines = lines.drop(columns=['comments'])\n",
    "\n",
    "# Path to save the cleaned CSV file\n",
    "csv_path = os.path.join(root_path, \"raw_data.csv\")\n",
    "\n",
    "# Save as CSV if it doesn't already exist\n",
    "if not os.path.exists(csv_path):\n",
    "    lines.to_csv(csv_path, index=False, encoding='utf-8')\n",
    "    print(f\"✅ CSV file saved to: {csv_path}\")\n",
    "else:\n",
    "    print(f\"⚠️ CSV file already exists at: {csv_path}\")"
   ]
  },
  {
   "cell_type": "code",
   "execution_count": 6,
   "id": "8044f962-5d31-4f69-aa8d-e4e72e44c16f",
   "metadata": {},
   "outputs": [
    {
     "data": {
      "text/html": [
       "<div>\n",
       "<style scoped>\n",
       "    .dataframe tbody tr th:only-of-type {\n",
       "        vertical-align: middle;\n",
       "    }\n",
       "\n",
       "    .dataframe tbody tr th {\n",
       "        vertical-align: top;\n",
       "    }\n",
       "\n",
       "    .dataframe thead th {\n",
       "        text-align: right;\n",
       "    }\n",
       "</style>\n",
       "<table border=\"1\" class=\"dataframe\">\n",
       "  <thead>\n",
       "    <tr style=\"text-align: right;\">\n",
       "      <th></th>\n",
       "      <th>source</th>\n",
       "      <th>target</th>\n",
       "    </tr>\n",
       "  </thead>\n",
       "  <tbody>\n",
       "    <tr>\n",
       "      <th>1274</th>\n",
       "      <td>I'd never let Tom kiss me.</td>\n",
       "      <td>मैले टमलाई कहिल्यै चुम्बन गर्न दिइनँ।</td>\n",
       "    </tr>\n",
       "    <tr>\n",
       "      <th>156</th>\n",
       "      <td>I drink a lot.</td>\n",
       "      <td>म धेरै पिउँछु।</td>\n",
       "    </tr>\n",
       "    <tr>\n",
       "      <th>1566</th>\n",
       "      <td>I'm going to give Tom a bath.</td>\n",
       "      <td>म टमलाई नुहाइदिन जाँदैछु।</td>\n",
       "    </tr>\n",
       "    <tr>\n",
       "      <th>2173</th>\n",
       "      <td>When will you come back from Boston?</td>\n",
       "      <td>बोस्टनबाट कहिले फर्किदै हुनुहुन्छ ?</td>\n",
       "    </tr>\n",
       "    <tr>\n",
       "      <th>1007</th>\n",
       "      <td>I play soccer every day.</td>\n",
       "      <td>म हरेक दिन फुटबल खेल्छु।</td>\n",
       "    </tr>\n",
       "    <tr>\n",
       "      <th>292</th>\n",
       "      <td>I'm the skipper.</td>\n",
       "      <td>म कप्तान हुँ।</td>\n",
       "    </tr>\n",
       "  </tbody>\n",
       "</table>\n",
       "</div>"
      ],
      "text/plain": [
       "                                    source  \\\n",
       "1274            I'd never let Tom kiss me.   \n",
       "156                         I drink a lot.   \n",
       "1566         I'm going to give Tom a bath.   \n",
       "2173  When will you come back from Boston?   \n",
       "1007              I play soccer every day.   \n",
       "292                       I'm the skipper.   \n",
       "\n",
       "                                     target  \n",
       "1274  मैले टमलाई कहिल्यै चुम्बन गर्न दिइनँ।  \n",
       "156                          म धेरै पिउँछु।  \n",
       "1566              म टमलाई नुहाइदिन जाँदैछु।  \n",
       "2173    बोस्टनबाट कहिले फर्किदै हुनुहुन्छ ?  \n",
       "1007               म हरेक दिन फुटबल खेल्छु।  \n",
       "292                           म कप्तान हुँ।  "
      ]
     },
     "execution_count": 6,
     "metadata": {},
     "output_type": "execute_result"
    }
   ],
   "source": [
    "raw_data = pd.read_csv(\"C:/Users/Admin/OneDrive/Desktop/College/SEM-6/AI_ML/Worksheet09/raw_data.csv\")\n",
    "raw_data.sample(6)"
   ]
  },
  {
   "cell_type": "code",
   "execution_count": null,
   "id": "e6c54c99-6cc8-4d18-a2c0-c7ad2efd312a",
   "metadata": {},
   "outputs": [],
   "source": []
  }
 ],
 "metadata": {
  "kernelspec": {
   "display_name": "Python 3 (ipykernel)",
   "language": "python",
   "name": "python3"
  },
  "language_info": {
   "codemirror_mode": {
    "name": "ipython",
    "version": 3
   },
   "file_extension": ".py",
   "mimetype": "text/x-python",
   "name": "python",
   "nbconvert_exporter": "python",
   "pygments_lexer": "ipython3",
   "version": "3.11.1"
  }
 },
 "nbformat": 4,
 "nbformat_minor": 5
}
