{
 "cells": [
  {
   "cell_type": "code",
   "execution_count": 4,
   "id": "b611cecf-7a30-4f36-aff2-631133539d9d",
   "metadata": {},
   "outputs": [
    {
     "name": "stdout",
     "output_type": "stream",
     "text": [
      "3.9.1\n"
     ]
    }
   ],
   "source": [
    "import tensorflow as tf\n",
    "print(tf.keras.__version__)"
   ]
  },
  {
   "cell_type": "markdown",
   "id": "3d09e1f4-e77a-47db-adaf-f298d3635aa3",
   "metadata": {
    "jp-MarkdownHeadingCollapsed": true
   },
   "source": [
    "### Why not just use Numpy?"
   ]
  },
  {
   "cell_type": "markdown",
   "id": "074f92a3-6d05-4572-8306-ae5707499274",
   "metadata": {},
   "source": [
    "<b> 1. NumPy Lacks Automatic Differentiation: </b>"
   ]
  },
  {
   "cell_type": "markdown",
   "id": "5c506c88-f1aa-4ae6-a9a5-92e99ec1c0ee",
   "metadata": {},
   "source": [
    "> Manual Gradient Calculation in Numpy"
   ]
  },
  {
   "cell_type": "code",
   "execution_count": 20,
   "id": "ace4d50d-f88b-46fc-aaf5-2078751a97db",
   "metadata": {},
   "outputs": [
    {
     "name": "stdout",
     "output_type": "stream",
     "text": [
      "x: 4.0, f(x):16.0\n",
      "x: 3.2, f(x):10.240000000000002\n",
      "x: 2.56, f(x):6.5536\n",
      "x: 2.048, f(x):4.194304\n",
      "x: 1.6384, f(x):2.68435456\n",
      "x: 1.31072, f(x):1.7179869184000003\n",
      "x: 1.0485760000000002, f(x):1.0995116277760004\n",
      "x: 0.8388608000000002, f(x):0.7036874417766403\n",
      "x: 0.6710886400000001, f(x):0.45035996273704976\n",
      "x: 0.5368709120000001, f(x):0.2882303761517119\n"
     ]
    }
   ],
   "source": [
    "import numpy as np\n",
    "def f(x):\n",
    "    return x ** 2\n",
    "\n",
    "def gradient(x):\n",
    "    return 2*x\n",
    "\n",
    "x = 5.0\n",
    "learning_rate = 0.1\n",
    "for _ in range(10):\n",
    "    x -= learning_rate * gradient(x)\n",
    "    print(f\"x: {x}, f(x):{f(x)}\")"
   ]
  },
  {
   "cell_type": "markdown",
   "id": "78063659-6918-445d-81b5-2bedb1ebf485",
   "metadata": {},
   "source": [
    "The above code works for simple cases but is hard to scale for deeper networks as a lot of calculation is needed and there is a lot of coding involved."
   ]
  },
  {
   "cell_type": "markdown",
   "id": "247c78bd-cbd4-4d46-aae8-bc86b87cc130",
   "metadata": {},
   "source": [
    "> Gradient Computations with Keras."
   ]
  },
  {
   "cell_type": "code",
   "execution_count": 21,
   "id": "6efb223d-c1fc-4665-9e8e-8a2a83cd297e",
   "metadata": {},
   "outputs": [
    {
     "name": "stdout",
     "output_type": "stream",
     "text": [
      "10.0\n"
     ]
    }
   ],
   "source": [
    "import tensorflow as tf\n",
    "x = tf.Variable(5.0)\n",
    "with tf.GradientTape() as tape:\n",
    "    y = x ** 2\n",
    "grad = tape.gradient(y,x)\n",
    "print(grad.numpy())"
   ]
  },
  {
   "cell_type": "markdown",
   "id": "db9c7dda-428e-43f7-9ce8-62d58f69014f",
   "metadata": {},
   "source": [
    "With keras, there is no need of manual calculation as everything is in-built. So, there is no need to calculate manual gradient calculations. Thus, keras is scalable for large networks."
   ]
  },
  {
   "cell_type": "markdown",
   "id": "5f209717-e6d7-4be5-8ae1-c483109e9340",
   "metadata": {},
   "source": [
    "<b> 2. Numpy is Slow for Large Models: </b>"
   ]
  },
  {
   "cell_type": "markdown",
   "id": "4a29a134-192a-4eb2-83c5-dc919ac43c14",
   "metadata": {},
   "source": [
    "> Matrix Multiplication Speed (Numpy vs. Tensorflow on GPU)"
   ]
  },
  {
   "cell_type": "code",
   "execution_count": 22,
   "id": "cef0f5e5-cf57-44ac-bfd2-bdc855ad553f",
   "metadata": {},
   "outputs": [
    {
     "name": "stdout",
     "output_type": "stream",
     "text": [
      "NumPy Time:  0.1291818618774414\n",
      "TensorFlow Time:  0.2946140766143799\n"
     ]
    }
   ],
   "source": [
    "import time\n",
    "size = (1000, 1000)\n",
    "A = np.random.rand(*size)\n",
    "B = np.random.rand(*size)\n",
    "\n",
    "start = time.time()\n",
    "C_numpy = np.dot(A,B)\n",
    "print(\"NumPy Time: \",time.time() - start)\n",
    "\n",
    "A_tf = tf.constant(A)\n",
    "B_tf = tf.constant(B)\n",
    "C_tf = tf.matmul(A_tf, B_tf)\n",
    "\n",
    "print(\"TensorFlow Time: \", time.time() - start)"
   ]
  },
  {
   "cell_type": "markdown",
   "id": "27966875-d42d-40d3-9812-3c38ee503fdd",
   "metadata": {},
   "source": [
    "Numpy runs only on CPU and does not support GPU acceleration while deep learning requires millions of matrix operations which Numpy alone cannot optimize efficiently."
   ]
  },
  {
   "cell_type": "markdown",
   "id": "0e40457d-2582-4436-b284-6aabb72ccffd",
   "metadata": {},
   "source": [
    "<b> 3. No Pre-built Activation Functions and Layers in NumPy. </b>"
   ]
  },
  {
   "cell_type": "markdown",
   "id": "3a63099d-61f9-490c-b5e4-135d5348e724",
   "metadata": {},
   "source": [
    "> Implementation of Activation Function with Keras"
   ]
  },
  {
   "cell_type": "code",
   "execution_count": 23,
   "id": "9cacefd9-e618-4197-a4d0-071558e8f65d",
   "metadata": {},
   "outputs": [],
   "source": [
    "from tensorflow.keras.layers import Layer, Dense\n",
    "layer = Dense(64, activation='sigmoid')"
   ]
  },
  {
   "cell_type": "markdown",
   "id": "1729154c-5bea-4ba9-86aa-4812b5a36e34",
   "metadata": {},
   "source": [
    "In deep learning there are functions like softmax and sigmoid. With Numpy, we have to manually implement every function while in keras, these functions are in-built."
   ]
  },
  {
   "cell_type": "markdown",
   "id": "e2e2074d-f224-4f64-b7f4-c892775665a0",
   "metadata": {},
   "source": [
    "<b> 4. Keras supports Model Training, Numpy Does not <b>"
   ]
  },
  {
   "cell_type": "markdown",
   "id": "c43647d4-0bd8-4b4d-8f9e-eac75f15a8b9",
   "metadata": {},
   "source": [
    "> Once your model is built, training it in Numpy is complex as it requires computing forward pass, computing loss, computing backward pass manually and updating all the weights using gradients but in the case of Keras, model training only requires one line of code which is easy and efficient"
   ]
  },
  {
   "cell_type": "markdown",
   "id": "63dde58d-7d76-4366-be05-df314fdebbad",
   "metadata": {},
   "source": [
    "<b> 5. No Prebuilt Layers in Numpy <b>"
   ]
  },
  {
   "cell_type": "markdown",
   "id": "443bde1b-b0a7-4553-9b31-1a14e2f8391d",
   "metadata": {},
   "source": [
    "> Layers in Keras"
   ]
  },
  {
   "cell_type": "code",
   "execution_count": 24,
   "id": "047f2d9d-a472-4278-b253-29aa89fd65ff",
   "metadata": {},
   "outputs": [
    {
     "name": "stderr",
     "output_type": "stream",
     "text": [
      "C:\\Users\\Admin\\AppData\\Local\\Programs\\Python\\Python311\\Lib\\site-packages\\keras\\src\\layers\\core\\dense.py:87: UserWarning: Do not pass an `input_shape`/`input_dim` argument to a layer. When using Sequential models, prefer using an `Input(shape)` object as the first layer in the model instead.\n",
      "  super().__init__(activity_regularizer=activity_regularizer, **kwargs)\n"
     ]
    }
   ],
   "source": [
    "from tensorflow.keras.models import Sequential\n",
    "from tensorflow.keras.layers import Dense\n",
    "model = Sequential([\n",
    "Dense(64, activation='relu', input_shape=(784,)),\n",
    "Dense(10, activation='softmax')\n",
    "])"
   ]
  },
  {
   "cell_type": "markdown",
   "id": "09213ffd-17ca-407d-9765-7633c144c19c",
   "metadata": {},
   "source": [
    "We can easily define layers in keras just like the code above but it is hard to implement each layer in numpy as we will have to do it manually."
   ]
  },
  {
   "cell_type": "markdown",
   "id": "55a219d3-8879-4fb2-8ffd-260819cf1361",
   "metadata": {},
   "source": [
    "<b> 6. No Prebuilt Optimizers in Numpy <b>"
   ]
  },
  {
   "cell_type": "markdown",
   "id": "b17eb652-38a6-4b85-b8ea-0729e71e281b",
   "metadata": {},
   "source": [
    "> Implementing SGD in Numpy"
   ]
  },
  {
   "cell_type": "code",
   "execution_count": 25,
   "id": "2c868f7a-9a3c-44f0-bd92-10e7f7a223b8",
   "metadata": {},
   "outputs": [],
   "source": [
    "learning_rate = 0.01\n",
    "weights = np.random.randn(3, 3)\n",
    "for _ in range(100): # Training loop\n",
    "    gradient = np.random.randn(3, 3) # Fake gradient for illustration\n",
    "    weights -= learning_rate * gradient"
   ]
  },
  {
   "cell_type": "markdown",
   "id": "5c99ff08-cc3d-4758-b63c-359bd42e386c",
   "metadata": {},
   "source": [
    "> Implementing SGD in Keras"
   ]
  },
  {
   "cell_type": "code",
   "execution_count": 26,
   "id": "f61c4ffd-73d4-4fbd-bd25-63792e2f14ba",
   "metadata": {},
   "outputs": [],
   "source": [
    "from tensorflow.keras.optimizers import SGD\n",
    "optimizer = SGD(learning_rate = 0.01)"
   ]
  },
  {
   "cell_type": "markdown",
   "id": "3903d2fb-2695-4b97-a145-c51d69bc045f",
   "metadata": {},
   "source": [
    "Deep learning requires optimization algorithms like SGD (Stochastic Gradient Descent) and Adam (Adaptive Momentum Estimation). Implementing SGD in Numpy works but it is hard to scale for complex models while in Keras, it is scalable for complex models as it is in-built."
   ]
  },
  {
   "cell_type": "markdown",
   "id": "2486ce7c-b9f9-4548-81d4-a38904facfc0",
   "metadata": {},
   "source": [
    "### Building a Fully Connected Network for Devnagari Digit Classification"
   ]
  },
  {
   "cell_type": "markdown",
   "id": "269eab1f-9d43-46b1-a4c8-4dbc13ab48e0",
   "metadata": {},
   "source": [
    "<b> Task 1: Data Preparation </b>"
   ]
  },
  {
   "cell_type": "code",
   "execution_count": 27,
   "id": "99bed013-7567-4898-808f-2b04435e88af",
   "metadata": {},
   "outputs": [],
   "source": [
    "import os\n",
    "import numpy as np\n",
    "from PIL import Image\n",
    "import tensorflow as tf\n",
    "from tensorflow.keras.utils import to_categorical\n",
    "from sklearn.model_selection import train_test_split\n",
    "import matplotlib.pyplot as plt"
   ]
  },
  {
   "cell_type": "code",
   "execution_count": 28,
   "id": "95ff3038-b63b-42d4-b527-b317d12b26d3",
   "metadata": {},
   "outputs": [],
   "source": [
    "# Define dataset paths\n",
    "test_dir = \"C:/Users/Admin/OneDrive/Desktop/College/SEM-6/AI_ML/DevanagariHandwrittenDigitDataset/Test\"\n",
    "train_dir = \"C:/Users/Admin/OneDrive/Desktop/College/SEM-6/AI_ML/DevanagariHandwrittenDigitDataset/Train\""
   ]
  },
  {
   "cell_type": "code",
   "execution_count": 29,
   "id": "a2f8767b-da49-4f0e-aa81-1108cf4607e3",
   "metadata": {},
   "outputs": [],
   "source": [
    "# Set image dimensions\n",
    "img_height, img_width = 28, 28"
   ]
  },
  {
   "cell_type": "code",
   "execution_count": 30,
   "id": "9715f92e-e80f-443a-bb5c-2f6b10e09aac",
   "metadata": {},
   "outputs": [],
   "source": [
    "def load_images_from_folder(folder):\n",
    "    images = []\n",
    "    labels = []\n",
    "    class_names = sorted(os.listdir(folder)) # list of all subdirectories in folder\n",
    "    class_map = {name: i for i, name in enumerate(class_names)} # Map class names to labels\n",
    "    \n",
    "    for class_name in class_names:\n",
    "        class_path = os.path.join(folder, class_name)\n",
    "        label = class_map[class_name]\n",
    "        for filename in os.listdir(class_path):\n",
    "            img_path = os.path.join(class_path, filename)\n",
    "            # Load image using PIL\n",
    "            img = Image.open(img_path).convert(\"L\") # Convert to grayscale\n",
    "            img = img.resize((img_width, img_height)) # Resize to (28,28)\n",
    "            img = np.array(img) / 255.0 # Normalize pixel values to [0,1]\n",
    "            images.append(img)\n",
    "            labels.append(label)\n",
    "    return np.array(images), np.array(labels)"
   ]
  },
  {
   "cell_type": "code",
   "execution_count": 31,
   "id": "a8de80c4-8c51-4709-a2f3-18fe14cce10f",
   "metadata": {},
   "outputs": [
    {
     "name": "stdout",
     "output_type": "stream",
     "text": [
      "Training set: (17000, 28, 28, 1), Labels: (17000, 10)\n",
      "Testing set: (3000, 28, 28, 1), Labels: (3000, 10)\n"
     ]
    },
    {
     "data": {
      "image/png": "[encoded data removed]",
      "text/plain": [
       "<Figure size 1000x400 with 10 Axes>"
      ]
     },
     "metadata": {},
     "output_type": "display_data"
    }
   ],
   "source": [
    "# Load training and testing datasets\n",
    "x_train, y_train = load_images_from_folder(train_dir)\n",
    "x_test, y_test = load_images_from_folder(test_dir)\n",
    "\n",
    "# Reshape images for Keras input\n",
    "x_train = x_train.reshape(-1, img_height, img_width, 1) # Shape (num_samples, 28, 28, 1)\n",
    "x_test = x_test.reshape(-1, img_height, img_width, 1)\n",
    "\n",
    "# One-hot encode labels\n",
    "y_train = to_categorical(y_train, num_classes=10)\n",
    "y_test = to_categorical(y_test, num_classes=10)\n",
    "\n",
    "# Print dataset shape\n",
    "print(f\"Training set: {x_train.shape}, Labels: {y_train.shape}\")\n",
    "print(f\"Testing set: {x_test.shape}, Labels: {y_test.shape}\")\n",
    "\n",
    "# Visualize some images\n",
    "plt.figure(figsize=(10, 4))\n",
    "for i in range(10):\n",
    "    plt.subplot(2, 5, i + 1)\n",
    "    plt.imshow(x_train[i].reshape(28, 28), cmap='gray')\n",
    "    plt.title(f\"Label: {np.argmax(y_train[i])}\")\n",
    "    plt.axis(\"off\")\n",
    "plt.show()"
   ]
  },
  {
   "cell_type": "markdown",
   "id": "069b0eb7-7197-48c0-a914-8fc3a5360e27",
   "metadata": {},
   "source": [
    "<b> Task 2: Build the FCN Model </b>"
   ]
  },
  {
   "cell_type": "code",
   "execution_count": 32,
   "id": "42730614-5553-4793-9367-22c4dd674918",
   "metadata": {},
   "outputs": [],
   "source": [
    "from tensorflow import keras\n",
    "input_shape = (28, 28, 1)\n",
    "\n",
    "model = keras.Sequential(\n",
    "    [\n",
    "        keras.layers.Input(shape = input_shape),\n",
    "        keras.layers.Flatten(),\n",
    "        keras.layers.Dense(64, activation = \"sigmoid\"),\n",
    "        keras.layers.Dense(128, activation = \"sigmoid\"),\n",
    "        keras.layers.Dense(256, activation = \"sigmoid\"),\n",
    "        keras.layers.Dense(10, activation = \"softmax\"),\n",
    "    ]\n",
    ")"
   ]
  },
  {
   "cell_type": "markdown",
   "id": "af04f0e6-5c08-4a01-93f3-5dea4caac677",
   "metadata": {},
   "source": [
    "<b> Task 3: Compile the Model </b>"
   ]
  },
  {
   "cell_type": "code",
   "execution_count": 33,
   "id": "923befe7-aba6-424d-b3b6-6f368a57ea9e",
   "metadata": {},
   "outputs": [],
   "source": [
    "model.compile(\n",
    "    optimizer = \"adam\",\n",
    "    loss = \"categorical_crossentropy\",\n",
    "    metrics = [\"accuracy\"]\n",
    ")"
   ]
  },
  {
   "cell_type": "markdown",
   "id": "665e19ad-9b61-43b5-8805-7aa5fd373ab9",
   "metadata": {},
   "source": [
    "<b> Task 4: Train the Model </b>"
   ]
  },
  {
   "cell_type": "code",
   "execution_count": 34,
   "id": "8d726997-8c15-4e82-ad38-127a55efb07f",
   "metadata": {},
   "outputs": [
    {
     "name": "stdout",
     "output_type": "stream",
     "text": [
      "Epoch 1/20\n",
      "\u001b[1m113/113\u001b[0m \u001b[32m━━━━━━━━━━━━━━━━━━━━\u001b[0m\u001b[37m\u001b[0m \u001b[1m7s\u001b[0m 12ms/step - accuracy: 0.2934 - loss: 2.0254 - val_accuracy: 0.0475 - val_loss: 5.8113\n",
      "Epoch 2/20\n",
      "\u001b[1m113/113\u001b[0m \u001b[32m━━━━━━━━━━━━━━━━━━━━\u001b[0m\u001b[37m\u001b[0m \u001b[1m1s\u001b[0m 6ms/step - accuracy: 0.8062 - loss: 0.6869 - val_accuracy: 0.2043 - val_loss: 6.4625\n",
      "Epoch 3/20\n",
      "\u001b[1m113/113\u001b[0m \u001b[32m━━━━━━━━━━━━━━━━━━━━\u001b[0m\u001b[37m\u001b[0m \u001b[1m1s\u001b[0m 6ms/step - accuracy: 0.9133 - loss: 0.3138 - val_accuracy: 0.2212 - val_loss: 6.8431\n",
      "Epoch 4/20\n",
      "\u001b[1m113/113\u001b[0m \u001b[32m━━━━━━━━━━━━━━━━━━━━\u001b[0m\u001b[37m\u001b[0m \u001b[1m1s\u001b[0m 7ms/step - accuracy: 0.9461 - loss: 0.1991 - val_accuracy: 0.2322 - val_loss: 7.0372\n",
      "Epoch 5/20\n",
      "\u001b[1m113/113\u001b[0m \u001b[32m━━━━━━━━━━━━━━━━━━━━\u001b[0m\u001b[37m\u001b[0m \u001b[1m1s\u001b[0m 6ms/step - accuracy: 0.9569 - loss: 0.1545 - val_accuracy: 0.2373 - val_loss: 7.1254\n"
     ]
    }
   ],
   "source": [
    "history = model.fit(\n",
    "    x_train, \n",
    "    y_train,\n",
    "    batch_size = 128,\n",
    "    epochs = 20,\n",
    "    validation_split = 0.15,\n",
    "    callbacks = [\n",
    "        keras.callbacks.ModelCheckpoint(filepath=\"model_at_epoch_{epoch}.keras\"),\n",
    "        keras.callbacks.EarlyStopping(monitor=\"val_loss\", patience=4 ),\n",
    "    ]\n",
    ")"
   ]
  },
  {
   "cell_type": "code",
   "execution_count": 35,
   "id": "04d45a30-5ada-48e8-a187-460af0ff08dd",
   "metadata": {},
   "outputs": [
    {
     "data": {
      "image/png": "[encoded data removed]",
      "text/plain": [
       "<Figure size 1200x600 with 2 Axes>"
      ]
     },
     "metadata": {},
     "output_type": "display_data"
    }
   ],
   "source": [
    "train_loss = history.history['loss']\n",
    "val_loss = history.history['val_loss']\n",
    "\n",
    "# Extracting training and validation accuracy\n",
    "train_acc = history.history['accuracy']\n",
    "val_acc = history.history['val_accuracy']\n",
    "\n",
    "# Plotting training and validation loss\n",
    "plt.figure(figsize=(12, 6))\n",
    "plt.subplot(1, 2, 1)\n",
    "plt.plot(range(1, len(train_loss) + 1), train_loss, label='Training Loss', color='blue')\n",
    "plt.plot(range(1, len(val_loss) + 1), val_loss, label='Validation Loss', color='orange')\n",
    "plt.xlabel('Epochs')\n",
    "plt.ylabel('Loss')\n",
    "plt.title(\"Training and Validation Loss\")\n",
    "plt.legend()\n",
    "# Plotting training and validation accuracy\n",
    "plt.subplot(1, 2, 2)\n",
    "plt.plot(range(1, len(train_acc) + 1), train_acc, label='Training Accuracy', color='blue')\n",
    "plt.plot(range(1, len(val_acc) + 1), val_acc, label='Validation Accuracy', color='orange')\n",
    "plt.xlabel('Epochs')\n",
    "plt.ylabel('Accuracy')\n",
    "plt.title('Training and Validation Accuracy')\n",
    "plt.legend()\n",
    "plt.tight_layout()\n",
    "plt.show()"
   ]
  },
  {
   "cell_type": "markdown",
   "id": "1dd80755-d704-439f-907d-e7f3f2a069eb",
   "metadata": {},
   "source": [
    "<b> Task 5: Evaluate the Model </b>"
   ]
  },
  {
   "cell_type": "code",
   "execution_count": 36,
   "id": "16742cbd-df0f-4075-a35c-d45a7e1ef740",
   "metadata": {},
   "outputs": [
    {
     "name": "stdout",
     "output_type": "stream",
     "text": [
      "94/94 - 0s - 3ms/step - accuracy: 0.8493 - loss: 1.2087\n",
      "Test accuracy: 0.8493\n",
      "Test loss: 1.2087\n"
     ]
    }
   ],
   "source": [
    "test_loss, test_acc = model.evaluate(x_test, y_test, verbose=2)\n",
    "print(f\"Test accuracy: {test_acc:.4f}\")\n",
    "print(f\"Test loss: {test_loss:.4f}\")"
   ]
  },
  {
   "cell_type": "markdown",
   "id": "f3100037-367a-4afa-b437-a0f2eddae450",
   "metadata": {},
   "source": [
    "<b> Task 6: Predictions </b>"
   ]
  },
  {
   "cell_type": "code",
   "execution_count": 37,
   "id": "3745a52f-f028-4e94-85d6-6a4c5b79d0b6",
   "metadata": {},
   "outputs": [
    {
     "name": "stdout",
     "output_type": "stream",
     "text": [
      "\u001b[1m94/94\u001b[0m \u001b[32m━━━━━━━━━━━━━━━━━━━━\u001b[0m\u001b[37m\u001b[0m \u001b[1m0s\u001b[0m 2ms/step  \n",
      "Predicted label for first image: 0\n",
      "True label for first image: 0\n"
     ]
    }
   ],
   "source": [
    "# Predict on test data\n",
    "predictions = model.predict(x_test)\n",
    "# Convert predictions from probabilities to digit labels\n",
    "predicted_labels = np.argmax(predictions, axis=1)\n",
    "# Check the first prediction\n",
    "print(f\"Predicted label for first image: {predicted_labels[0]}\")\n",
    "print(f\"True label for first image: {np.argmax(y_test[0])}\")"
   ]
  },
  {
   "cell_type": "markdown",
   "id": "c4f75cef-9a8c-4e9f-825d-ed54969c63e5",
   "metadata": {},
   "source": [
    "<b> Task 7: Save and Load the Model </b>"
   ]
  },
  {
   "cell_type": "code",
   "execution_count": 38,
   "id": "408bb917-fe2f-40a1-b063-02e20c9db2ae",
   "metadata": {},
   "outputs": [
    {
     "name": "stderr",
     "output_type": "stream",
     "text": [
      "WARNING:absl:You are saving your model as an HDF5 file via `model.save()` or `keras.saving.save_model(model)`. This file format is considered legacy. We recommend using instead the native Keras format, e.g. `model.save('my_model.keras')` or `keras.saving.save_model(model, 'my_model.keras')`. \n"
     ]
    }
   ],
   "source": [
    "model.save(\"final_model.h5\")"
   ]
  },
  {
   "cell_type": "code",
   "execution_count": 39,
   "id": "1b6474c3-2cfb-4e93-8a36-9334b1359009",
   "metadata": {},
   "outputs": [
    {
     "name": "stderr",
     "output_type": "stream",
     "text": [
      "WARNING:absl:Compiled the loaded model, but the compiled metrics have yet to be built. `model.compile_metrics` will be empty until you train or evaluate the model.\n"
     ]
    },
    {
     "name": "stdout",
     "output_type": "stream",
     "text": [
      "\u001b[1m94/94\u001b[0m \u001b[32m━━━━━━━━━━━━━━━━━━━━\u001b[0m\u001b[37m\u001b[0m \u001b[1m1s\u001b[0m 3ms/step - accuracy: 0.9572 - loss: 0.2041   \n",
      "Loaded model test accuracy: 0.8493\n"
     ]
    }
   ],
   "source": [
    "loaded_model = tf.keras.models.load_model(\"final_model.h5\")\n",
    "loaded_test_loss, loaded_test_acc = loaded_model.evaluate(x_test, y_test)\n",
    "print(f\"Loaded model test accuracy: {loaded_test_acc:.4f}\")"
   ]
  },
  {
   "cell_type": "code",
   "execution_count": 40,
   "id": "ee8831ed-7f58-4877-931d-b8592f8f7b23",
   "metadata": {},
   "outputs": [
    {
     "data": {
      "image/png": "[encoded data removed]",
      "text/plain": [
       "<Figure size 1000x400 with 10 Axes>"
      ]
     },
     "metadata": {},
     "output_type": "display_data"
    }
   ],
   "source": [
    "# Visualize some predictions\n",
    "plt.figure(figsize=(10, 4))\n",
    "for i in range(10):\n",
    "    plt.subplot(2, 5, i + 1)\n",
    "    plt.imshow(x_test[i].reshape(28, 28), cmap='gray')\n",
    "    plt.title(f\"Pred: {predicted_labels[i]}\")\n",
    "    plt.axis(\"off\")\n",
    "plt.show()"
   ]
  },
  {
   "cell_type": "code",
   "execution_count": null,
   "id": "841f46c4-457e-40db-8abe-312719b38256",
   "metadata": {},
   "outputs": [],
   "source": []
  }
 ],
 "metadata": {
  "kernelspec": {
   "display_name": "Python 3 (ipykernel)",
   "language": "python",
   "name": "python3"
  },
  "language_info": {
   "codemirror_mode": {
    "name": "ipython",
    "version": 3
   },
   "file_extension": ".py",
   "mimetype": "text/x-python",
   "name": "python",
   "nbconvert_exporter": "python",
   "pygments_lexer": "ipython3",
   "version": "3.11.1"
  }
 },
 "nbformat": 4,
 "nbformat_minor": 5
}
